{
 "cells": [
  {
   "cell_type": "code",
   "execution_count": 1,
   "metadata": {},
   "outputs": [
    {
     "name": "stderr",
     "output_type": "stream",
     "text": [
      "/Users/aeternae/anaconda3/lib/python3.7/site-packages/lightgbm/__init__.py:46: UserWarning: Starting from version 2.2.1, the library file in distribution wheels for macOS is built by the Apple Clang (Xcode_8.3.3) compiler.\n",
      "This means that in case of installing LightGBM from PyPI via the ``pip install lightgbm`` command, you don't need to install the gcc compiler anymore.\n",
      "Instead of that, you need to install the OpenMP library, which is required for running LightGBM on the system with the Apple Clang compiler.\n",
      "You can install the OpenMP library by the following command: ``brew install libomp``.\n",
      "  \"You can install the OpenMP library by the following command: ``brew install libomp``.\", UserWarning)\n"
     ]
    }
   ],
   "source": [
    "import numpy as np \n",
    "import pandas as pd \n",
    "import matplotlib.pyplot as plt\n",
    "import seaborn as sns\n",
    "import lightgbm as lgb\n",
    "import xgboost as xgb\n",
    "\n",
    "from sklearn.model_selection import KFold, StratifiedKFold\n",
    "from sklearn.ensemble import RandomForestRegressor\n",
    "from sklearn.linear_model import LassoCV, RidgeCV\n",
    "from sklearn.metrics import accuracy_score, roc_auc_score\n",
    "from sklearn import metrics\n",
    "from sklearn.metrics import mean_squared_error\n",
    "from scipy.stats import norm, rankdata\n",
    "\n",
    "import warnings\n",
    "import gc\n",
    "import os\n",
    "import time\n",
    "import sys\n",
    "import datetime\n",
    "warnings.simplefilter(action='ignore', category=FutureWarning)\n",
    "warnings.filterwarnings('ignore')\n",
    "\n",
    "import matplotlib.pyplot as plt\n",
    "import seaborn as sns\n",
    "plt.style.use('seaborn')\n",
    "sns.set(font_scale=1)"
   ]
  },
  {
   "cell_type": "markdown",
   "metadata": {},
   "source": [
    "### 数据载入"
   ]
  },
  {
   "cell_type": "code",
   "execution_count": 2,
   "metadata": {},
   "outputs": [],
   "source": [
    "path = '/Users/aeternae/Desktop/Data/MetroRace/'\n",
    "test_28 = pd.read_csv(path + 'Metro_testA/testA_record_2019-01-28.csv')\n",
    "test_29 = pd.read_csv(path + 'Metro_testA/testA_submit_2019-01-29.csv')"
   ]
  },
  {
   "cell_type": "code",
   "execution_count": 3,
   "metadata": {
    "scrolled": false
   },
   "outputs": [
    {
     "data": {
      "text/html": [
       "<div>\n",
       "<style scoped>\n",
       "    .dataframe tbody tr th:only-of-type {\n",
       "        vertical-align: middle;\n",
       "    }\n",
       "\n",
       "    .dataframe tbody tr th {\n",
       "        vertical-align: top;\n",
       "    }\n",
       "\n",
       "    .dataframe thead th {\n",
       "        text-align: right;\n",
       "    }\n",
       "</style>\n",
       "<table border=\"1\" class=\"dataframe\">\n",
       "  <thead>\n",
       "    <tr style=\"text-align: right;\">\n",
       "      <th></th>\n",
       "      <th>0</th>\n",
       "      <th>1</th>\n",
       "      <th>2</th>\n",
       "      <th>3</th>\n",
       "      <th>4</th>\n",
       "      <th>5</th>\n",
       "      <th>6</th>\n",
       "      <th>7</th>\n",
       "      <th>8</th>\n",
       "      <th>9</th>\n",
       "      <th>...</th>\n",
       "      <th>71</th>\n",
       "      <th>72</th>\n",
       "      <th>73</th>\n",
       "      <th>74</th>\n",
       "      <th>75</th>\n",
       "      <th>76</th>\n",
       "      <th>77</th>\n",
       "      <th>78</th>\n",
       "      <th>79</th>\n",
       "      <th>80</th>\n",
       "    </tr>\n",
       "  </thead>\n",
       "  <tbody>\n",
       "    <tr>\n",
       "      <th>0</th>\n",
       "      <td>0</td>\n",
       "      <td>1</td>\n",
       "      <td>0</td>\n",
       "      <td>0</td>\n",
       "      <td>0</td>\n",
       "      <td>0</td>\n",
       "      <td>0</td>\n",
       "      <td>0</td>\n",
       "      <td>0</td>\n",
       "      <td>0</td>\n",
       "      <td>...</td>\n",
       "      <td>0</td>\n",
       "      <td>0</td>\n",
       "      <td>0</td>\n",
       "      <td>0</td>\n",
       "      <td>0</td>\n",
       "      <td>0</td>\n",
       "      <td>0</td>\n",
       "      <td>0</td>\n",
       "      <td>0</td>\n",
       "      <td>0</td>\n",
       "    </tr>\n",
       "    <tr>\n",
       "      <th>1</th>\n",
       "      <td>1</td>\n",
       "      <td>0</td>\n",
       "      <td>1</td>\n",
       "      <td>0</td>\n",
       "      <td>0</td>\n",
       "      <td>0</td>\n",
       "      <td>0</td>\n",
       "      <td>0</td>\n",
       "      <td>0</td>\n",
       "      <td>0</td>\n",
       "      <td>...</td>\n",
       "      <td>0</td>\n",
       "      <td>0</td>\n",
       "      <td>0</td>\n",
       "      <td>0</td>\n",
       "      <td>0</td>\n",
       "      <td>0</td>\n",
       "      <td>0</td>\n",
       "      <td>0</td>\n",
       "      <td>0</td>\n",
       "      <td>0</td>\n",
       "    </tr>\n",
       "    <tr>\n",
       "      <th>2</th>\n",
       "      <td>0</td>\n",
       "      <td>1</td>\n",
       "      <td>0</td>\n",
       "      <td>1</td>\n",
       "      <td>0</td>\n",
       "      <td>0</td>\n",
       "      <td>0</td>\n",
       "      <td>0</td>\n",
       "      <td>0</td>\n",
       "      <td>0</td>\n",
       "      <td>...</td>\n",
       "      <td>0</td>\n",
       "      <td>0</td>\n",
       "      <td>0</td>\n",
       "      <td>0</td>\n",
       "      <td>0</td>\n",
       "      <td>0</td>\n",
       "      <td>0</td>\n",
       "      <td>0</td>\n",
       "      <td>0</td>\n",
       "      <td>0</td>\n",
       "    </tr>\n",
       "    <tr>\n",
       "      <th>3</th>\n",
       "      <td>0</td>\n",
       "      <td>0</td>\n",
       "      <td>1</td>\n",
       "      <td>0</td>\n",
       "      <td>1</td>\n",
       "      <td>0</td>\n",
       "      <td>0</td>\n",
       "      <td>0</td>\n",
       "      <td>0</td>\n",
       "      <td>0</td>\n",
       "      <td>...</td>\n",
       "      <td>0</td>\n",
       "      <td>0</td>\n",
       "      <td>0</td>\n",
       "      <td>0</td>\n",
       "      <td>0</td>\n",
       "      <td>0</td>\n",
       "      <td>0</td>\n",
       "      <td>0</td>\n",
       "      <td>0</td>\n",
       "      <td>0</td>\n",
       "    </tr>\n",
       "    <tr>\n",
       "      <th>4</th>\n",
       "      <td>0</td>\n",
       "      <td>0</td>\n",
       "      <td>0</td>\n",
       "      <td>1</td>\n",
       "      <td>0</td>\n",
       "      <td>1</td>\n",
       "      <td>0</td>\n",
       "      <td>0</td>\n",
       "      <td>0</td>\n",
       "      <td>0</td>\n",
       "      <td>...</td>\n",
       "      <td>0</td>\n",
       "      <td>0</td>\n",
       "      <td>0</td>\n",
       "      <td>0</td>\n",
       "      <td>0</td>\n",
       "      <td>0</td>\n",
       "      <td>0</td>\n",
       "      <td>0</td>\n",
       "      <td>0</td>\n",
       "      <td>0</td>\n",
       "    </tr>\n",
       "  </tbody>\n",
       "</table>\n",
       "<p>5 rows × 81 columns</p>\n",
       "</div>"
      ],
      "text/plain": [
       "   0  1  2  3  4  5  6  7  8  9  ...  71  72  73  74  75  76  77  78  79  80\n",
       "0  0  1  0  0  0  0  0  0  0  0  ...   0   0   0   0   0   0   0   0   0   0\n",
       "1  1  0  1  0  0  0  0  0  0  0  ...   0   0   0   0   0   0   0   0   0   0\n",
       "2  0  1  0  1  0  0  0  0  0  0  ...   0   0   0   0   0   0   0   0   0   0\n",
       "3  0  0  1  0  1  0  0  0  0  0  ...   0   0   0   0   0   0   0   0   0   0\n",
       "4  0  0  0  1  0  1  0  0  0  0  ...   0   0   0   0   0   0   0   0   0   0\n",
       "\n",
       "[5 rows x 81 columns]"
      ]
     },
     "execution_count": 3,
     "metadata": {},
     "output_type": "execute_result"
    }
   ],
   "source": [
    "station_con = pd.read_csv(path + 'Metro_roadMap.csv')\n",
    "del station_con['Unnamed: 0']\n",
    "station_con.head()"
   ]
  },
  {
   "cell_type": "code",
   "execution_count": 4,
   "metadata": {
    "scrolled": true
   },
   "outputs": [
    {
     "data": {
      "text/html": [
       "<div>\n",
       "<style scoped>\n",
       "    .dataframe tbody tr th:only-of-type {\n",
       "        vertical-align: middle;\n",
       "    }\n",
       "\n",
       "    .dataframe tbody tr th {\n",
       "        vertical-align: top;\n",
       "    }\n",
       "\n",
       "    .dataframe thead th {\n",
       "        text-align: right;\n",
       "    }\n",
       "</style>\n",
       "<table border=\"1\" class=\"dataframe\">\n",
       "  <thead>\n",
       "    <tr style=\"text-align: right;\">\n",
       "      <th></th>\n",
       "      <th>time</th>\n",
       "      <th>lineID</th>\n",
       "      <th>stationID</th>\n",
       "      <th>deviceID</th>\n",
       "      <th>status</th>\n",
       "      <th>userID</th>\n",
       "      <th>payType</th>\n",
       "    </tr>\n",
       "  </thead>\n",
       "  <tbody>\n",
       "    <tr>\n",
       "      <th>0</th>\n",
       "      <td>2019-01-28 00:00:04</td>\n",
       "      <td>B</td>\n",
       "      <td>33</td>\n",
       "      <td>1587</td>\n",
       "      <td>0</td>\n",
       "      <td>Aad6ad59dfdd470bfdfdb0d2959db068b</td>\n",
       "      <td>0</td>\n",
       "    </tr>\n",
       "    <tr>\n",
       "      <th>1</th>\n",
       "      <td>2019-01-28 00:00:04</td>\n",
       "      <td>C</td>\n",
       "      <td>63</td>\n",
       "      <td>2933</td>\n",
       "      <td>0</td>\n",
       "      <td>Bab97d7b32891b8cb5451e80b73b23d70</td>\n",
       "      <td>1</td>\n",
       "    </tr>\n",
       "    <tr>\n",
       "      <th>2</th>\n",
       "      <td>2019-01-28 00:00:06</td>\n",
       "      <td>C</td>\n",
       "      <td>63</td>\n",
       "      <td>2934</td>\n",
       "      <td>0</td>\n",
       "      <td>Dda829d9f38d0a28f1e4ae84a34e846dc</td>\n",
       "      <td>3</td>\n",
       "    </tr>\n",
       "    <tr>\n",
       "      <th>3</th>\n",
       "      <td>2019-01-28 00:00:06</td>\n",
       "      <td>C</td>\n",
       "      <td>39</td>\n",
       "      <td>1839</td>\n",
       "      <td>0</td>\n",
       "      <td>Cc397069031ab762d75d613291cd68cda</td>\n",
       "      <td>2</td>\n",
       "    </tr>\n",
       "    <tr>\n",
       "      <th>4</th>\n",
       "      <td>2019-01-28 00:00:07</td>\n",
       "      <td>B</td>\n",
       "      <td>33</td>\n",
       "      <td>1588</td>\n",
       "      <td>0</td>\n",
       "      <td>Ba83c695d27b4d376bfde3f755e4b677f</td>\n",
       "      <td>1</td>\n",
       "    </tr>\n",
       "  </tbody>\n",
       "</table>\n",
       "</div>"
      ],
      "text/plain": [
       "                  time lineID  stationID  deviceID  status  \\\n",
       "0  2019-01-28 00:00:04      B         33      1587       0   \n",
       "1  2019-01-28 00:00:04      C         63      2933       0   \n",
       "2  2019-01-28 00:00:06      C         63      2934       0   \n",
       "3  2019-01-28 00:00:06      C         39      1839       0   \n",
       "4  2019-01-28 00:00:07      B         33      1588       0   \n",
       "\n",
       "                              userID  payType  \n",
       "0  Aad6ad59dfdd470bfdfdb0d2959db068b        0  \n",
       "1  Bab97d7b32891b8cb5451e80b73b23d70        1  \n",
       "2  Dda829d9f38d0a28f1e4ae84a34e846dc        3  \n",
       "3  Cc397069031ab762d75d613291cd68cda        2  \n",
       "4  Ba83c695d27b4d376bfde3f755e4b677f        1  "
      ]
     },
     "execution_count": 4,
     "metadata": {},
     "output_type": "execute_result"
    }
   ],
   "source": [
    "test_28.head()"
   ]
  },
  {
   "cell_type": "code",
   "execution_count": 5,
   "metadata": {},
   "outputs": [],
   "source": [
    "def get_base_features(df_):\n",
    "    \n",
    "    df = df_.copy()\n",
    "    df1 = df_.copy()\n",
    "    \n",
    "    date = df['time'][0][8:10]\n",
    "    df['startTime'] = df['time'].apply(lambda x: x[:15].replace(date, '29') + '0:00') \n",
    "    df = df.groupby(['startTime','stationID']).status.agg(['count', 'sum']).reset_index()\n",
    "    \n",
    "    df = pd.merge(test_29, df, how='left', on=['stationID', 'startTime']) #左连接，保留test_29所有信息\n",
    "    df['time'] = df['startTime'].apply(lambda x: x[:15].replace('29', date) + '0:00')\n",
    "    del df['startTime'], df['endTime']\n",
    "    \n",
    "   \n",
    "    # base time\n",
    "    df['day']     = df['time'].apply(lambda x: int(x[8:10]))\n",
    "    df['week']    = pd.to_datetime(df['time']).dt.dayofweek + 1\n",
    "    df['weekend'] = (pd.to_datetime(df.time).dt.weekday >=5).astype(int)\n",
    "    df['hour']    = df['time'].apply(lambda x: int(x[11:13]))\n",
    "    df['minute']  = df['time'].apply(lambda x: int(x[14:15]+'0'))\n",
    "    del df['time']\n",
    "    \n",
    "    # count,sum\n",
    "#     result = df.groupby(['stationID', 'day', 'hour', 'minute']).status.agg(['count', 'sum']).reset_index()\n",
    "    \n",
    "    # nunique \n",
    "    \n",
    "    tmp = 1 - df1.groupby(['stationID'])['userID'].nunique() / df1.groupby(['stationID'])['userID'].count()\n",
    "    df  = df.merge(tmp, on=['stationID'], how='left')\n",
    "    df.rename(columns={'userID':'samePeo'}, inplace = True)\n",
    "#     tmp     = df.groupby(['stationID','hour'])['deviceID'].nunique().reset_index(name='nuni_deviceID_of_stationID_hour')\n",
    "#     result  = result.merge(tmp, on=['stationID','hour'], how='left')\n",
    "#     tmp     = df.groupby(['stationID','hour','minute'])['deviceID'].nunique().\\\n",
    "#                                            reset_index(name='nuni_deviceID_of_stationID_hour_minute')\n",
    "#     result  = result.merge(tmp, on=['stationID','hour','minute'], how='left')\n",
    " \n",
    "    \n",
    "    # in, out\n",
    "    df['inNums']  = df['sum']\n",
    "    df['outNums'] = df['count'] - df['sum']\n",
    "    \n",
    "    df['day_since_first'] = df['day'] - 1 \n",
    "    df.fillna(0, inplace=True)\n",
    "    del df['sum'], df['count']\n",
    "    \n",
    "    \n",
    "    return df"
   ]
  },
  {
   "cell_type": "code",
   "execution_count": 7,
   "metadata": {
    "scrolled": true
   },
   "outputs": [
    {
     "data": {
      "text/plain": [
       "['record_2019-01-23.csv',\n",
       " 'record_2019-01-22.csv',\n",
       " 'record_2019-01-08.csv',\n",
       " 'record_2019-01-20.csv',\n",
       " 'record_2019-01-21.csv',\n",
       " 'record_2019-01-09.csv',\n",
       " 'record_2019-01-25.csv',\n",
       " 'record_2019-01-19.csv',\n",
       " 'record_2019-01-18.csv',\n",
       " 'record_2019-01-24.csv',\n",
       " 'record_2019-01-02.csv',\n",
       " 'record_2019-01-16.csv',\n",
       " 'record_2019-01-17.csv',\n",
       " 'record_2019-01-03.csv',\n",
       " 'record_2019-01-15.csv',\n",
       " 'record_2019-01-01.csv',\n",
       " 'record_2019-01-14.csv',\n",
       " 'record_2019-01-10.csv',\n",
       " 'record_2019-01-04.csv',\n",
       " 'record_2019-01-05.csv',\n",
       " 'record_2019-01-11.csv',\n",
       " 'record_2019-01-07.csv',\n",
       " 'record_2019-01-13.csv',\n",
       " 'record_2019-01-12.csv',\n",
       " 'record_2019-01-06.csv']"
      ]
     },
     "execution_count": 7,
     "metadata": {},
     "output_type": "execute_result"
    }
   ],
   "source": [
    "data_list = os.listdir(path + 'Metro_train/')\n",
    "data_list"
   ]
  },
  {
   "cell_type": "code",
   "execution_count": 8,
   "metadata": {},
   "outputs": [],
   "source": [
    "df = pd.DataFrame()"
   ]
  },
  {
   "cell_type": "code",
   "execution_count": 9,
   "metadata": {},
   "outputs": [
    {
     "name": "stdout",
     "output_type": "stream",
     "text": [
      "record_2019-01-23.csv 0\n",
      "record_2019-01-22.csv 1\n",
      "record_2019-01-08.csv 2\n",
      "record_2019-01-20.csv 3\n",
      "record_2019-01-21.csv 4\n",
      "record_2019-01-09.csv 5\n",
      "record_2019-01-25.csv 6\n",
      "record_2019-01-19.csv 7\n",
      "record_2019-01-18.csv 8\n",
      "record_2019-01-24.csv 9\n",
      "record_2019-01-02.csv 10\n",
      "record_2019-01-16.csv 11\n",
      "record_2019-01-17.csv 12\n",
      "record_2019-01-03.csv 13\n",
      "record_2019-01-15.csv 14\n",
      "record_2019-01-01.csv 15\n",
      "record_2019-01-14.csv 16\n",
      "record_2019-01-10.csv 17\n",
      "record_2019-01-04.csv 18\n",
      "record_2019-01-05.csv 19\n",
      "record_2019-01-11.csv 20\n",
      "record_2019-01-07.csv 21\n",
      "record_2019-01-13.csv 22\n",
      "record_2019-01-12.csv 23\n",
      "record_2019-01-06.csv 24\n"
     ]
    }
   ],
   "source": [
    "for i in range(0, len(data_list)):\n",
    "    print(data_list[i], i)\n",
    "    dfi = pd.read_csv(path + 'Metro_train/' + data_list[i])\n",
    "    dfi = get_base_features(dfi)\n",
    "    df = pd.concat([df, dfi], axis=0, ignore_index=True)"
   ]
  },
  {
   "cell_type": "code",
   "execution_count": 10,
   "metadata": {
    "scrolled": true
   },
   "outputs": [
    {
     "data": {
      "text/html": [
       "<div>\n",
       "<style scoped>\n",
       "    .dataframe tbody tr th:only-of-type {\n",
       "        vertical-align: middle;\n",
       "    }\n",
       "\n",
       "    .dataframe tbody tr th {\n",
       "        vertical-align: top;\n",
       "    }\n",
       "\n",
       "    .dataframe thead th {\n",
       "        text-align: right;\n",
       "    }\n",
       "</style>\n",
       "<table border=\"1\" class=\"dataframe\">\n",
       "  <thead>\n",
       "    <tr style=\"text-align: right;\">\n",
       "      <th></th>\n",
       "      <th>stationID</th>\n",
       "      <th>inNums</th>\n",
       "      <th>outNums</th>\n",
       "      <th>day</th>\n",
       "      <th>week</th>\n",
       "      <th>weekend</th>\n",
       "      <th>hour</th>\n",
       "      <th>minute</th>\n",
       "      <th>samePeo</th>\n",
       "      <th>day_since_first</th>\n",
       "    </tr>\n",
       "  </thead>\n",
       "  <tbody>\n",
       "    <tr>\n",
       "      <th>144</th>\n",
       "      <td>0</td>\n",
       "      <td>0.0</td>\n",
       "      <td>4.0</td>\n",
       "      <td>2</td>\n",
       "      <td>3</td>\n",
       "      <td>0</td>\n",
       "      <td>0</td>\n",
       "      <td>0</td>\n",
       "      <td>0.293261</td>\n",
       "      <td>1</td>\n",
       "    </tr>\n",
       "    <tr>\n",
       "      <th>145</th>\n",
       "      <td>0</td>\n",
       "      <td>0.0</td>\n",
       "      <td>0.0</td>\n",
       "      <td>2</td>\n",
       "      <td>3</td>\n",
       "      <td>0</td>\n",
       "      <td>0</td>\n",
       "      <td>10</td>\n",
       "      <td>0.293261</td>\n",
       "      <td>1</td>\n",
       "    </tr>\n",
       "    <tr>\n",
       "      <th>146</th>\n",
       "      <td>0</td>\n",
       "      <td>0.0</td>\n",
       "      <td>3.0</td>\n",
       "      <td>2</td>\n",
       "      <td>3</td>\n",
       "      <td>0</td>\n",
       "      <td>0</td>\n",
       "      <td>20</td>\n",
       "      <td>0.293261</td>\n",
       "      <td>1</td>\n",
       "    </tr>\n",
       "    <tr>\n",
       "      <th>147</th>\n",
       "      <td>0</td>\n",
       "      <td>0.0</td>\n",
       "      <td>0.0</td>\n",
       "      <td>2</td>\n",
       "      <td>3</td>\n",
       "      <td>0</td>\n",
       "      <td>0</td>\n",
       "      <td>30</td>\n",
       "      <td>0.293261</td>\n",
       "      <td>1</td>\n",
       "    </tr>\n",
       "    <tr>\n",
       "      <th>148</th>\n",
       "      <td>0</td>\n",
       "      <td>0.0</td>\n",
       "      <td>0.0</td>\n",
       "      <td>2</td>\n",
       "      <td>3</td>\n",
       "      <td>0</td>\n",
       "      <td>0</td>\n",
       "      <td>40</td>\n",
       "      <td>0.293261</td>\n",
       "      <td>1</td>\n",
       "    </tr>\n",
       "  </tbody>\n",
       "</table>\n",
       "</div>"
      ],
      "text/plain": [
       "     stationID  inNums  outNums  day  week  weekend  hour  minute   samePeo  \\\n",
       "144          0     0.0      4.0    2     3        0     0       0  0.293261   \n",
       "145          0     0.0      0.0    2     3        0     0      10  0.293261   \n",
       "146          0     0.0      3.0    2     3        0     0      20  0.293261   \n",
       "147          0     0.0      0.0    2     3        0     0      30  0.293261   \n",
       "148          0     0.0      0.0    2     3        0     0      40  0.293261   \n",
       "\n",
       "     day_since_first  \n",
       "144                1  \n",
       "145                1  \n",
       "146                1  \n",
       "147                1  \n",
       "148                1  "
      ]
     },
     "execution_count": 10,
     "metadata": {},
     "output_type": "execute_result"
    }
   ],
   "source": [
    "df = df.sort_values(['stationID', 'day']).reset_index(drop=True)\n",
    "df.drop(df[df['day']==1].index, inplace=True)   #删除元旦数据\n",
    "df.head()"
   ]
  },
  {
   "cell_type": "markdown",
   "metadata": {},
   "source": [
    "### 构建基础模型"
   ]
  },
  {
   "cell_type": "code",
   "execution_count": 11,
   "metadata": {},
   "outputs": [],
   "source": [
    "# 划分data，label\n",
    "df_X = df.iloc[:, [0,3,4,5,6,7,8,9]]\n",
    "df_y = df.iloc[:, [1,2]]"
   ]
  },
  {
   "cell_type": "code",
   "execution_count": 12,
   "metadata": {},
   "outputs": [],
   "source": [
    "test_28 = pd.read_csv(path + 'Metro_testA/testA_record_2019-01-28.csv')"
   ]
  },
  {
   "cell_type": "code",
   "execution_count": 13,
   "metadata": {},
   "outputs": [],
   "source": [
    "df28 = get_base_features(test_28)"
   ]
  },
  {
   "cell_type": "code",
   "execution_count": 14,
   "metadata": {},
   "outputs": [],
   "source": [
    "df28_X = df28.iloc[:, [0,3,4,5,6,7,8,9]]\n",
    "df28_y = df28.iloc[:, [1,2]]"
   ]
  },
  {
   "cell_type": "markdown",
   "metadata": {},
   "source": [
    "#### randomForest"
   ]
  },
  {
   "cell_type": "code",
   "execution_count": 75,
   "metadata": {
    "scrolled": true
   },
   "outputs": [
    {
     "data": {
      "text/plain": [
       "RandomForestRegressor(bootstrap=True, criterion='mse', max_depth=None,\n",
       "           max_features='auto', max_leaf_nodes=None,\n",
       "           min_impurity_decrease=0.0, min_impurity_split=None,\n",
       "           min_samples_leaf=1, min_samples_split=2,\n",
       "           min_weight_fraction_leaf=0.0, n_estimators=500, n_jobs=-1,\n",
       "           oob_score=True, random_state=None, verbose=0, warm_start=False)"
      ]
     },
     "execution_count": 75,
     "metadata": {},
     "output_type": "execute_result"
    }
   ],
   "source": [
    "from sklearn.ensemble import RandomForestRegressor\n",
    "\n",
    "rf_reg = RandomForestRegressor(n_estimators=500, oob_score=True, n_jobs=-1)\n",
    "rf_reg.fit(df_X, df_y)"
   ]
  },
  {
   "cell_type": "code",
   "execution_count": 16,
   "metadata": {},
   "outputs": [
    {
     "data": {
      "text/plain": [
       "0.9698007412551612"
      ]
     },
     "execution_count": 16,
     "metadata": {},
     "output_type": "execute_result"
    }
   ],
   "source": [
    "rf_reg.oob_score_"
   ]
  },
  {
   "cell_type": "code",
   "execution_count": 17,
   "metadata": {},
   "outputs": [],
   "source": [
    "df28_y_pre = rf_reg.predict(df28_X)"
   ]
  },
  {
   "cell_type": "code",
   "execution_count": 18,
   "metadata": {},
   "outputs": [
    {
     "data": {
      "text/plain": [
       "0.9451314308347849"
      ]
     },
     "execution_count": 18,
     "metadata": {},
     "output_type": "execute_result"
    }
   ],
   "source": [
    "rf_reg.score(df28_X, df28_y)"
   ]
  },
  {
   "cell_type": "code",
   "execution_count": 19,
   "metadata": {},
   "outputs": [
    {
     "data": {
      "text/plain": [
       "17.97187054183813"
      ]
     },
     "execution_count": 19,
     "metadata": {},
     "output_type": "execute_result"
    }
   ],
   "source": [
    "from sklearn.metrics import mean_absolute_error\n",
    "mean_absolute_error(df28_y, df28_y_pre)"
   ]
  },
  {
   "cell_type": "code",
   "execution_count": 86,
   "metadata": {},
   "outputs": [
    {
     "data": {
      "image/png": "[encoded data removed]",
      "text/plain": [
       "<Figure size 700x400 with 1 Axes>"
      ]
     },
     "metadata": {
      "needs_background": "light"
     },
     "output_type": "display_data"
    }
   ],
   "source": [
    "feature = df_X.columns\n",
    "importances = rf_reg.feature_importances_\n",
    "index = np.argsort(importances)[::-1]\n",
    "feature[index]\n",
    "\n",
    "plt.figure(figsize = (14, 8), dpi = 50)\n",
    "plt.bar(feature[index], importances[index], color=\"g\", align=\"center\")\n",
    "plt.tick_params(labelsize=20) "
   ]
  },
  {
   "cell_type": "code",
   "execution_count": 22,
   "metadata": {},
   "outputs": [],
   "source": [
    "# sub = pd.read_csv(path + '/Metro_testA/testA_submit_2019-01-29.csv')\n",
    "# sub['inNums']   = df28_y_pre[:, 0]\n",
    "# sub['outNums']  = df28_y_pre[:, 1]\n",
    "# # 结果修正\n",
    "# #sub.loc[sub.inNums<0 , 'inNums']  = 0\n",
    "# #sub.loc[sub.outNums<0, 'outNums'] = 0\n",
    "# sub[['stationID', 'startTime', 'endTime', 'inNums', 'outNums']].to_csv(path + '/Metro_testA/sub_rf.csv', index=False)"
   ]
  },
  {
   "cell_type": "markdown",
   "metadata": {},
   "source": [
    "####  xgb"
   ]
  },
  {
   "cell_type": "code",
   "execution_count": 20,
   "metadata": {},
   "outputs": [],
   "source": [
    "import lightgbm as lgb\n",
    "import xgboost as xgb"
   ]
  },
  {
   "cell_type": "code",
   "execution_count": 21,
   "metadata": {},
   "outputs": [],
   "source": [
    "from sklearn.model_selection import train_test_split\n",
    "\n",
    "train, valid = train_test_split(df, test_size = 0.2, random_state=1)\n",
    "\n",
    "train_X = train.iloc[:, [0,3,4,5,6,7,8,9]]\n",
    "train_y_in  = train.iloc[:, 1]\n",
    "train_y_out = train.iloc[:, 2]\n",
    "\n",
    "valid_X = valid.iloc[:, [0,3,4,5,6,7,8,9]]\n",
    "valid_y_in  = valid.iloc[:, 1]\n",
    "valid_y_out = valid.iloc[:, 2]\n",
    "\n",
    " \n",
    "#xgb矩阵赋值\n",
    "xgb_train_in = xgb.DMatrix(train_X, label=train_y_in)\n",
    "xgb_val_in = xgb.DMatrix(valid_X, label=valid_y_in)\n",
    "\n",
    "xgb_train_out = xgb.DMatrix(train_X, label=train_y_out)\n",
    "xgb_val_out = xgb.DMatrix(valid_X, label=valid_y_out)\n",
    "\n",
    "xgb_test = xgb.DMatrix(df28_X)\n",
    "y_test_in  = df28.iloc[:, 1]\n",
    "y_test_out = df28.iloc[:, 2]"
   ]
  },
  {
   "cell_type": "code",
   "execution_count": 22,
   "metadata": {},
   "outputs": [],
   "source": [
    "watchlist = [(xgb_train_in, 'train'), (xgb_val_in, 'val')]\n",
    "xgb_params = {'eta': 0.05, 'gamma': 0, 'max_depth': 8, 'subsample': 0.8, 'colsample_bytree': 0.8, \n",
    "              'objective': 'reg:linear', 'eval_metric': 'mae', 'silent': True}"
   ]
  },
  {
   "cell_type": "code",
   "execution_count": 23,
   "metadata": {
    "scrolled": true
   },
   "outputs": [
    {
     "name": "stdout",
     "output_type": "stream",
     "text": [
      "[0]\ttrain-mae:84.5548\tval-mae:83.8538\n",
      "Multiple eval metrics have been passed: 'val-mae' will be used for early stopping.\n",
      "\n",
      "Will train until val-mae hasn't improved in 100 rounds.\n",
      "[100]\ttrain-mae:26.4084\tval-mae:26.3129\n",
      "[200]\ttrain-mae:21.2436\tval-mae:21.4824\n",
      "[300]\ttrain-mae:18.3831\tval-mae:18.9055\n",
      "[400]\ttrain-mae:16.7909\tval-mae:17.4774\n",
      "[500]\ttrain-mae:15.5086\tval-mae:16.3615\n",
      "[600]\ttrain-mae:14.5842\tval-mae:15.5623\n",
      "[700]\ttrain-mae:13.8508\tval-mae:14.9339\n",
      "[800]\ttrain-mae:13.3179\tval-mae:14.4991\n",
      "[900]\ttrain-mae:12.7889\tval-mae:14.0658\n",
      "[1000]\ttrain-mae:12.4187\tval-mae:13.7758\n",
      "[1100]\ttrain-mae:12.0225\tval-mae:13.455\n",
      "[1200]\ttrain-mae:11.7507\tval-mae:13.2622\n",
      "[1300]\ttrain-mae:11.482\tval-mae:13.0734\n",
      "[1400]\ttrain-mae:11.2661\tval-mae:12.9318\n",
      "[1500]\ttrain-mae:11.0535\tval-mae:12.7929\n",
      "[1600]\ttrain-mae:10.8679\tval-mae:12.6693\n",
      "[1700]\ttrain-mae:10.7197\tval-mae:12.5785\n",
      "[1800]\ttrain-mae:10.5651\tval-mae:12.4823\n",
      "[1900]\ttrain-mae:10.4221\tval-mae:12.4002\n",
      "[2000]\ttrain-mae:10.2966\tval-mae:12.325\n",
      "[2100]\ttrain-mae:10.1652\tval-mae:12.2485\n",
      "[2200]\ttrain-mae:10.0629\tval-mae:12.1889\n",
      "[2300]\ttrain-mae:9.9441\tval-mae:12.1274\n",
      "[2400]\ttrain-mae:9.83636\tval-mae:12.0689\n",
      "[2500]\ttrain-mae:9.72741\tval-mae:12.0058\n",
      "[2600]\ttrain-mae:9.63508\tval-mae:11.9637\n",
      "[2700]\ttrain-mae:9.57067\tval-mae:11.9358\n",
      "[2800]\ttrain-mae:9.48413\tval-mae:11.9039\n",
      "[2900]\ttrain-mae:9.41223\tval-mae:11.8719\n",
      "[3000]\ttrain-mae:9.33216\tval-mae:11.8404\n",
      "[3100]\ttrain-mae:9.25325\tval-mae:11.8037\n",
      "[3200]\ttrain-mae:9.17751\tval-mae:11.7656\n",
      "[3300]\ttrain-mae:9.10424\tval-mae:11.7303\n",
      "[3400]\ttrain-mae:9.04062\tval-mae:11.7008\n",
      "[3500]\ttrain-mae:8.97273\tval-mae:11.6716\n",
      "[3600]\ttrain-mae:8.91707\tval-mae:11.6546\n",
      "[3700]\ttrain-mae:8.85482\tval-mae:11.6306\n",
      "[3800]\ttrain-mae:8.78939\tval-mae:11.605\n",
      "[3900]\ttrain-mae:8.72782\tval-mae:11.5781\n",
      "[4000]\ttrain-mae:8.68104\tval-mae:11.5643\n",
      "[4100]\ttrain-mae:8.61773\tval-mae:11.5431\n",
      "[4200]\ttrain-mae:8.56917\tval-mae:11.5315\n",
      "[4300]\ttrain-mae:8.52389\tval-mae:11.5182\n",
      "[4400]\ttrain-mae:8.48231\tval-mae:11.505\n",
      "[4500]\ttrain-mae:8.43616\tval-mae:11.49\n",
      "[4600]\ttrain-mae:8.38237\tval-mae:11.4702\n",
      "[4700]\ttrain-mae:8.3416\tval-mae:11.4597\n",
      "[4800]\ttrain-mae:8.30341\tval-mae:11.4537\n",
      "[4900]\ttrain-mae:8.25568\tval-mae:11.4402\n",
      "[4999]\ttrain-mae:8.21376\tval-mae:11.4317\n"
     ]
    }
   ],
   "source": [
    "xgb_reg_in = xgb.train(xgb_params, xgb_train_in, num_boost_round=2000, evals=watchlist,\n",
    "                   early_stopping_rounds=100, verbose_eval=200)"
   ]
  },
  {
   "cell_type": "code",
   "execution_count": 24,
   "metadata": {},
   "outputs": [],
   "source": [
    "xgb_reg_in.save_model('/Users/aeternae/Desktop/Analyse/Metro_predict/xgb_base_in.model')"
   ]
  },
  {
   "cell_type": "code",
   "execution_count": 25,
   "metadata": {},
   "outputs": [],
   "source": [
    "xgb_pre_in = xgb_reg_in.predict(xgb_test, ntree_limit=xgb_reg_in.best_ntree_limit)"
   ]
  },
  {
   "cell_type": "code",
   "execution_count": 27,
   "metadata": {},
   "outputs": [
    {
     "data": {
      "text/plain": [
       "17.272286692664885"
      ]
     },
     "execution_count": 27,
     "metadata": {},
     "output_type": "execute_result"
    }
   ],
   "source": [
    "mean_absolute_error(y_test_in, xgb_pre_in)"
   ]
  },
  {
   "cell_type": "code",
   "execution_count": 32,
   "metadata": {},
   "outputs": [],
   "source": [
    "xgb_in_new = xgb.Booster(model_file='xgb.model')"
   ]
  },
  {
   "cell_type": "code",
   "execution_count": 33,
   "metadata": {},
   "outputs": [
    {
     "data": {
      "text/plain": [
       "16.334638903809225"
      ]
     },
     "execution_count": 33,
     "metadata": {},
     "output_type": "execute_result"
    }
   ],
   "source": [
    "pre_in = xgb_in_new.predict(xgb_test)\n",
    "mean_absolute_error(y_test_in, pre_in)"
   ]
  },
  {
   "cell_type": "code",
   "execution_count": 34,
   "metadata": {},
   "outputs": [
    {
     "data": {
      "text/plain": [
       "['stationID',\n",
       " 'day',\n",
       " 'week',\n",
       " 'weekend',\n",
       " 'hour',\n",
       " 'minute',\n",
       " 'samePeo',\n",
       " 'day_since_first']"
      ]
     },
     "execution_count": 34,
     "metadata": {},
     "output_type": "execute_result"
    }
   ],
   "source": [
    "xgb_reg_in.feature_names"
   ]
  },
  {
   "cell_type": "code",
   "execution_count": 35,
   "metadata": {},
   "outputs": [],
   "source": [
    "from xgboost import plot_importance"
   ]
  },
  {
   "cell_type": "code",
   "execution_count": 36,
   "metadata": {},
   "outputs": [
    {
     "data": {
      "text/plain": [
       "<matplotlib.axes._subplots.AxesSubplot at 0x1a1ee67cc0>"
      ]
     },
     "execution_count": 36,
     "metadata": {},
     "output_type": "execute_result"
    },
    {
     "data": {
      "image/png": "[encoded data removed]",
      "text/plain": [
       "<Figure size 432x288 with 1 Axes>"
      ]
     },
     "metadata": {
      "needs_background": "light"
     },
     "output_type": "display_data"
    }
   ],
   "source": [
    "plot_importance(xgb_reg_in)"
   ]
  },
  {
   "cell_type": "markdown",
   "metadata": {},
   "source": [
    "### 增加特征"
   ]
  },
  {
   "cell_type": "markdown",
   "metadata": {},
   "source": [
    "#### 站点特征"
   ]
  },
  {
   "cell_type": "code",
   "execution_count": 39,
   "metadata": {},
   "outputs": [
    {
     "data": {
      "text/html": [
       "<div>\n",
       "<style scoped>\n",
       "    .dataframe tbody tr th:only-of-type {\n",
       "        vertical-align: middle;\n",
       "    }\n",
       "\n",
       "    .dataframe tbody tr th {\n",
       "        vertical-align: top;\n",
       "    }\n",
       "\n",
       "    .dataframe thead th {\n",
       "        text-align: right;\n",
       "    }\n",
       "</style>\n",
       "<table border=\"1\" class=\"dataframe\">\n",
       "  <thead>\n",
       "    <tr style=\"text-align: right;\">\n",
       "      <th></th>\n",
       "      <th>stationID</th>\n",
       "      <th>线路</th>\n",
       "      <th>站点</th>\n",
       "      <th>体育休闲服务</th>\n",
       "      <th>医疗保健服务</th>\n",
       "      <th>住宿服务</th>\n",
       "      <th>风景名胜</th>\n",
       "      <th>科教文化服务</th>\n",
       "      <th>交通枢纽</th>\n",
       "      <th>生活类服务</th>\n",
       "      <th>公司</th>\n",
       "      <th>住宅区</th>\n",
       "    </tr>\n",
       "  </thead>\n",
       "  <tbody>\n",
       "    <tr>\n",
       "      <th>0</th>\n",
       "      <td>0</td>\n",
       "      <td>1</td>\n",
       "      <td>湘湖站</td>\n",
       "      <td>3</td>\n",
       "      <td>5</td>\n",
       "      <td>2</td>\n",
       "      <td>3</td>\n",
       "      <td>6</td>\n",
       "      <td>21</td>\n",
       "      <td>82</td>\n",
       "      <td>22</td>\n",
       "      <td>10</td>\n",
       "    </tr>\n",
       "    <tr>\n",
       "      <th>1</th>\n",
       "      <td>1</td>\n",
       "      <td>1</td>\n",
       "      <td>滨康路站</td>\n",
       "      <td>12</td>\n",
       "      <td>29</td>\n",
       "      <td>30</td>\n",
       "      <td>4</td>\n",
       "      <td>42</td>\n",
       "      <td>68</td>\n",
       "      <td>614</td>\n",
       "      <td>195</td>\n",
       "      <td>44</td>\n",
       "    </tr>\n",
       "    <tr>\n",
       "      <th>2</th>\n",
       "      <td>2</td>\n",
       "      <td>1</td>\n",
       "      <td>西兴站</td>\n",
       "      <td>19</td>\n",
       "      <td>12</td>\n",
       "      <td>25</td>\n",
       "      <td>1</td>\n",
       "      <td>34</td>\n",
       "      <td>87</td>\n",
       "      <td>642</td>\n",
       "      <td>630</td>\n",
       "      <td>13</td>\n",
       "    </tr>\n",
       "    <tr>\n",
       "      <th>3</th>\n",
       "      <td>3</td>\n",
       "      <td>1</td>\n",
       "      <td>滨和路站</td>\n",
       "      <td>39</td>\n",
       "      <td>89</td>\n",
       "      <td>22</td>\n",
       "      <td>1</td>\n",
       "      <td>169</td>\n",
       "      <td>115</td>\n",
       "      <td>1638</td>\n",
       "      <td>157</td>\n",
       "      <td>18</td>\n",
       "    </tr>\n",
       "    <tr>\n",
       "      <th>4</th>\n",
       "      <td>4</td>\n",
       "      <td>1</td>\n",
       "      <td>江陵路站</td>\n",
       "      <td>47</td>\n",
       "      <td>44</td>\n",
       "      <td>38</td>\n",
       "      <td>4</td>\n",
       "      <td>134</td>\n",
       "      <td>207</td>\n",
       "      <td>1649</td>\n",
       "      <td>872</td>\n",
       "      <td>8</td>\n",
       "    </tr>\n",
       "  </tbody>\n",
       "</table>\n",
       "</div>"
      ],
      "text/plain": [
       "   stationID  线路    站点  体育休闲服务  医疗保健服务  住宿服务  风景名胜  科教文化服务  交通枢纽  生活类服务   公司  \\\n",
       "0          0   1   湘湖站       3       5     2     3       6    21     82   22   \n",
       "1          1   1  滨康路站      12      29    30     4      42    68    614  195   \n",
       "2          2   1   西兴站      19      12    25     1      34    87    642  630   \n",
       "3          3   1  滨和路站      39      89    22     1     169   115   1638  157   \n",
       "4          4   1  江陵路站      47      44    38     4     134   207   1649  872   \n",
       "\n",
       "   住宅区  \n",
       "0   10  \n",
       "1   44  \n",
       "2   13  \n",
       "3   18  \n",
       "4    8  "
      ]
     },
     "execution_count": 39,
     "metadata": {},
     "output_type": "execute_result"
    }
   ],
   "source": [
    "station_poi = pd.read_csv('/Users/aeternae/Desktop/Analyse/Metro_predict/station_poi/station_poi_data.csv')\n",
    "station_poi.head()"
   ]
  },
  {
   "cell_type": "code",
   "execution_count": 40,
   "metadata": {},
   "outputs": [
    {
     "data": {
      "text/html": [
       "<div>\n",
       "<style scoped>\n",
       "    .dataframe tbody tr th:only-of-type {\n",
       "        vertical-align: middle;\n",
       "    }\n",
       "\n",
       "    .dataframe tbody tr th {\n",
       "        vertical-align: top;\n",
       "    }\n",
       "\n",
       "    .dataframe thead th {\n",
       "        text-align: right;\n",
       "    }\n",
       "</style>\n",
       "<table border=\"1\" class=\"dataframe\">\n",
       "  <thead>\n",
       "    <tr style=\"text-align: right;\">\n",
       "      <th></th>\n",
       "      <th>stationID</th>\n",
       "      <th>inNums</th>\n",
       "      <th>outNums</th>\n",
       "      <th>day</th>\n",
       "      <th>week</th>\n",
       "      <th>weekend</th>\n",
       "      <th>hour</th>\n",
       "      <th>minute</th>\n",
       "      <th>samePeo</th>\n",
       "      <th>day_since_first</th>\n",
       "      <th>...</th>\n",
       "      <th>站点</th>\n",
       "      <th>体育休闲服务</th>\n",
       "      <th>医疗保健服务</th>\n",
       "      <th>住宿服务</th>\n",
       "      <th>风景名胜</th>\n",
       "      <th>科教文化服务</th>\n",
       "      <th>交通枢纽</th>\n",
       "      <th>生活类服务</th>\n",
       "      <th>公司</th>\n",
       "      <th>住宅区</th>\n",
       "    </tr>\n",
       "  </thead>\n",
       "  <tbody>\n",
       "    <tr>\n",
       "      <th>0</th>\n",
       "      <td>0</td>\n",
       "      <td>0.0</td>\n",
       "      <td>4.0</td>\n",
       "      <td>2</td>\n",
       "      <td>3</td>\n",
       "      <td>0</td>\n",
       "      <td>0</td>\n",
       "      <td>0</td>\n",
       "      <td>0.293261</td>\n",
       "      <td>1</td>\n",
       "      <td>...</td>\n",
       "      <td>湘湖站</td>\n",
       "      <td>3</td>\n",
       "      <td>5</td>\n",
       "      <td>2</td>\n",
       "      <td>3</td>\n",
       "      <td>6</td>\n",
       "      <td>21</td>\n",
       "      <td>82</td>\n",
       "      <td>22</td>\n",
       "      <td>10</td>\n",
       "    </tr>\n",
       "    <tr>\n",
       "      <th>1</th>\n",
       "      <td>0</td>\n",
       "      <td>0.0</td>\n",
       "      <td>0.0</td>\n",
       "      <td>2</td>\n",
       "      <td>3</td>\n",
       "      <td>0</td>\n",
       "      <td>0</td>\n",
       "      <td>10</td>\n",
       "      <td>0.293261</td>\n",
       "      <td>1</td>\n",
       "      <td>...</td>\n",
       "      <td>湘湖站</td>\n",
       "      <td>3</td>\n",
       "      <td>5</td>\n",
       "      <td>2</td>\n",
       "      <td>3</td>\n",
       "      <td>6</td>\n",
       "      <td>21</td>\n",
       "      <td>82</td>\n",
       "      <td>22</td>\n",
       "      <td>10</td>\n",
       "    </tr>\n",
       "    <tr>\n",
       "      <th>2</th>\n",
       "      <td>0</td>\n",
       "      <td>0.0</td>\n",
       "      <td>3.0</td>\n",
       "      <td>2</td>\n",
       "      <td>3</td>\n",
       "      <td>0</td>\n",
       "      <td>0</td>\n",
       "      <td>20</td>\n",
       "      <td>0.293261</td>\n",
       "      <td>1</td>\n",
       "      <td>...</td>\n",
       "      <td>湘湖站</td>\n",
       "      <td>3</td>\n",
       "      <td>5</td>\n",
       "      <td>2</td>\n",
       "      <td>3</td>\n",
       "      <td>6</td>\n",
       "      <td>21</td>\n",
       "      <td>82</td>\n",
       "      <td>22</td>\n",
       "      <td>10</td>\n",
       "    </tr>\n",
       "    <tr>\n",
       "      <th>3</th>\n",
       "      <td>0</td>\n",
       "      <td>0.0</td>\n",
       "      <td>0.0</td>\n",
       "      <td>2</td>\n",
       "      <td>3</td>\n",
       "      <td>0</td>\n",
       "      <td>0</td>\n",
       "      <td>30</td>\n",
       "      <td>0.293261</td>\n",
       "      <td>1</td>\n",
       "      <td>...</td>\n",
       "      <td>湘湖站</td>\n",
       "      <td>3</td>\n",
       "      <td>5</td>\n",
       "      <td>2</td>\n",
       "      <td>3</td>\n",
       "      <td>6</td>\n",
       "      <td>21</td>\n",
       "      <td>82</td>\n",
       "      <td>22</td>\n",
       "      <td>10</td>\n",
       "    </tr>\n",
       "    <tr>\n",
       "      <th>4</th>\n",
       "      <td>0</td>\n",
       "      <td>0.0</td>\n",
       "      <td>0.0</td>\n",
       "      <td>2</td>\n",
       "      <td>3</td>\n",
       "      <td>0</td>\n",
       "      <td>0</td>\n",
       "      <td>40</td>\n",
       "      <td>0.293261</td>\n",
       "      <td>1</td>\n",
       "      <td>...</td>\n",
       "      <td>湘湖站</td>\n",
       "      <td>3</td>\n",
       "      <td>5</td>\n",
       "      <td>2</td>\n",
       "      <td>3</td>\n",
       "      <td>6</td>\n",
       "      <td>21</td>\n",
       "      <td>82</td>\n",
       "      <td>22</td>\n",
       "      <td>10</td>\n",
       "    </tr>\n",
       "  </tbody>\n",
       "</table>\n",
       "<p>5 rows × 21 columns</p>\n",
       "</div>"
      ],
      "text/plain": [
       "   stationID  inNums  outNums  day  week  weekend  hour  minute   samePeo  \\\n",
       "0          0     0.0      4.0    2     3        0     0       0  0.293261   \n",
       "1          0     0.0      0.0    2     3        0     0      10  0.293261   \n",
       "2          0     0.0      3.0    2     3        0     0      20  0.293261   \n",
       "3          0     0.0      0.0    2     3        0     0      30  0.293261   \n",
       "4          0     0.0      0.0    2     3        0     0      40  0.293261   \n",
       "\n",
       "   day_since_first  ...   站点 体育休闲服务  医疗保健服务  住宿服务  风景名胜  科教文化服务  交通枢纽  生活类服务  \\\n",
       "0                1  ...  湘湖站      3       5     2     3       6    21     82   \n",
       "1                1  ...  湘湖站      3       5     2     3       6    21     82   \n",
       "2                1  ...  湘湖站      3       5     2     3       6    21     82   \n",
       "3                1  ...  湘湖站      3       5     2     3       6    21     82   \n",
       "4                1  ...  湘湖站      3       5     2     3       6    21     82   \n",
       "\n",
       "   公司  住宅区  \n",
       "0  22   10  \n",
       "1  22   10  \n",
       "2  22   10  \n",
       "3  22   10  \n",
       "4  22   10  \n",
       "\n",
       "[5 rows x 21 columns]"
      ]
     },
     "execution_count": 40,
     "metadata": {},
     "output_type": "execute_result"
    }
   ],
   "source": [
    "df_poi = pd.merge(df, station_poi, how='left', on=['stationID'])\n",
    "df_poi.head()"
   ]
  },
  {
   "cell_type": "code",
   "execution_count": 41,
   "metadata": {},
   "outputs": [
    {
     "data": {
      "text/plain": [
       "Index(['stationID', 'inNums', 'outNums', 'day', 'week', 'weekend', 'hour',\n",
       "       'minute', 'samePeo', 'day_since_first', '线路', '站点', '体育休闲服务', '医疗保健服务',\n",
       "       '住宿服务', '风景名胜', '科教文化服务', '交通枢纽', '生活类服务', '公司', '住宅区'],\n",
       "      dtype='object')"
      ]
     },
     "execution_count": 41,
     "metadata": {},
     "output_type": "execute_result"
    }
   ],
   "source": [
    "df_poi.columns"
   ]
  },
  {
   "cell_type": "code",
   "execution_count": 42,
   "metadata": {},
   "outputs": [],
   "source": [
    "use_columns = ['stationID', '线路', 'inNums', 'outNums', 'day', 'week', 'weekend', 'hour',\n",
    "       'minute', 'samePeo', 'day_since_first', '体育休闲服务', '医疗保健服务',\n",
    "       '住宿服务', '风景名胜', '科教文化服务', '交通枢纽', '生活类服务', '公司', '住宅区']"
   ]
  },
  {
   "cell_type": "code",
   "execution_count": 110,
   "metadata": {
    "scrolled": true
   },
   "outputs": [
    {
     "data": {
      "text/html": [
       "<div>\n",
       "<style scoped>\n",
       "    .dataframe tbody tr th:only-of-type {\n",
       "        vertical-align: middle;\n",
       "    }\n",
       "\n",
       "    .dataframe tbody tr th {\n",
       "        vertical-align: top;\n",
       "    }\n",
       "\n",
       "    .dataframe thead th {\n",
       "        text-align: right;\n",
       "    }\n",
       "</style>\n",
       "<table border=\"1\" class=\"dataframe\">\n",
       "  <thead>\n",
       "    <tr style=\"text-align: right;\">\n",
       "      <th></th>\n",
       "      <th>stationID</th>\n",
       "      <th>lineID</th>\n",
       "      <th>inNums</th>\n",
       "      <th>outNums</th>\n",
       "      <th>day</th>\n",
       "      <th>week</th>\n",
       "      <th>weekend</th>\n",
       "      <th>hour</th>\n",
       "      <th>minute</th>\n",
       "      <th>samePeo</th>\n",
       "      <th>day_since_first</th>\n",
       "      <th>体育休闲服务</th>\n",
       "      <th>医疗保健服务</th>\n",
       "      <th>住宿服务</th>\n",
       "      <th>风景名胜</th>\n",
       "      <th>科教文化服务</th>\n",
       "      <th>交通枢纽</th>\n",
       "      <th>生活类服务</th>\n",
       "      <th>公司</th>\n",
       "      <th>住宅区</th>\n",
       "    </tr>\n",
       "  </thead>\n",
       "  <tbody>\n",
       "    <tr>\n",
       "      <th>0</th>\n",
       "      <td>0</td>\n",
       "      <td>1</td>\n",
       "      <td>0.0</td>\n",
       "      <td>4.0</td>\n",
       "      <td>2</td>\n",
       "      <td>3</td>\n",
       "      <td>0</td>\n",
       "      <td>0</td>\n",
       "      <td>0</td>\n",
       "      <td>0.293261</td>\n",
       "      <td>1</td>\n",
       "      <td>3</td>\n",
       "      <td>5</td>\n",
       "      <td>2</td>\n",
       "      <td>3</td>\n",
       "      <td>6</td>\n",
       "      <td>21</td>\n",
       "      <td>82</td>\n",
       "      <td>22</td>\n",
       "      <td>10</td>\n",
       "    </tr>\n",
       "    <tr>\n",
       "      <th>1</th>\n",
       "      <td>0</td>\n",
       "      <td>1</td>\n",
       "      <td>0.0</td>\n",
       "      <td>0.0</td>\n",
       "      <td>2</td>\n",
       "      <td>3</td>\n",
       "      <td>0</td>\n",
       "      <td>0</td>\n",
       "      <td>10</td>\n",
       "      <td>0.293261</td>\n",
       "      <td>1</td>\n",
       "      <td>3</td>\n",
       "      <td>5</td>\n",
       "      <td>2</td>\n",
       "      <td>3</td>\n",
       "      <td>6</td>\n",
       "      <td>21</td>\n",
       "      <td>82</td>\n",
       "      <td>22</td>\n",
       "      <td>10</td>\n",
       "    </tr>\n",
       "    <tr>\n",
       "      <th>2</th>\n",
       "      <td>0</td>\n",
       "      <td>1</td>\n",
       "      <td>0.0</td>\n",
       "      <td>3.0</td>\n",
       "      <td>2</td>\n",
       "      <td>3</td>\n",
       "      <td>0</td>\n",
       "      <td>0</td>\n",
       "      <td>20</td>\n",
       "      <td>0.293261</td>\n",
       "      <td>1</td>\n",
       "      <td>3</td>\n",
       "      <td>5</td>\n",
       "      <td>2</td>\n",
       "      <td>3</td>\n",
       "      <td>6</td>\n",
       "      <td>21</td>\n",
       "      <td>82</td>\n",
       "      <td>22</td>\n",
       "      <td>10</td>\n",
       "    </tr>\n",
       "    <tr>\n",
       "      <th>3</th>\n",
       "      <td>0</td>\n",
       "      <td>1</td>\n",
       "      <td>0.0</td>\n",
       "      <td>0.0</td>\n",
       "      <td>2</td>\n",
       "      <td>3</td>\n",
       "      <td>0</td>\n",
       "      <td>0</td>\n",
       "      <td>30</td>\n",
       "      <td>0.293261</td>\n",
       "      <td>1</td>\n",
       "      <td>3</td>\n",
       "      <td>5</td>\n",
       "      <td>2</td>\n",
       "      <td>3</td>\n",
       "      <td>6</td>\n",
       "      <td>21</td>\n",
       "      <td>82</td>\n",
       "      <td>22</td>\n",
       "      <td>10</td>\n",
       "    </tr>\n",
       "    <tr>\n",
       "      <th>4</th>\n",
       "      <td>0</td>\n",
       "      <td>1</td>\n",
       "      <td>0.0</td>\n",
       "      <td>0.0</td>\n",
       "      <td>2</td>\n",
       "      <td>3</td>\n",
       "      <td>0</td>\n",
       "      <td>0</td>\n",
       "      <td>40</td>\n",
       "      <td>0.293261</td>\n",
       "      <td>1</td>\n",
       "      <td>3</td>\n",
       "      <td>5</td>\n",
       "      <td>2</td>\n",
       "      <td>3</td>\n",
       "      <td>6</td>\n",
       "      <td>21</td>\n",
       "      <td>82</td>\n",
       "      <td>22</td>\n",
       "      <td>10</td>\n",
       "    </tr>\n",
       "  </tbody>\n",
       "</table>\n",
       "</div>"
      ],
      "text/plain": [
       "   stationID  lineID  inNums  outNums  day  week  weekend  hour  minute  \\\n",
       "0          0       1     0.0      4.0    2     3        0     0       0   \n",
       "1          0       1     0.0      0.0    2     3        0     0      10   \n",
       "2          0       1     0.0      3.0    2     3        0     0      20   \n",
       "3          0       1     0.0      0.0    2     3        0     0      30   \n",
       "4          0       1     0.0      0.0    2     3        0     0      40   \n",
       "\n",
       "    samePeo  day_since_first  体育休闲服务  医疗保健服务  住宿服务  风景名胜  科教文化服务  交通枢纽  生活类服务  \\\n",
       "0  0.293261                1       3       5     2     3       6    21     82   \n",
       "1  0.293261                1       3       5     2     3       6    21     82   \n",
       "2  0.293261                1       3       5     2     3       6    21     82   \n",
       "3  0.293261                1       3       5     2     3       6    21     82   \n",
       "4  0.293261                1       3       5     2     3       6    21     82   \n",
       "\n",
       "   公司  住宅区  \n",
       "0  22   10  \n",
       "1  22   10  \n",
       "2  22   10  \n",
       "3  22   10  \n",
       "4  22   10  "
      ]
     },
     "execution_count": 110,
     "metadata": {},
     "output_type": "execute_result"
    }
   ],
   "source": [
    "df_train = df_poi.loc[:, use_columns]\n",
    "df_train.rename(columns={'线路':'lineID'}, inplace = True)\n",
    "df_train.head() "
   ]
  },
  {
   "cell_type": "markdown",
   "metadata": {},
   "source": [
    "#### 天气特征"
   ]
  },
  {
   "cell_type": "code",
   "execution_count": 45,
   "metadata": {},
   "outputs": [
    {
     "data": {
      "text/html": [
       "<div>\n",
       "<style scoped>\n",
       "    .dataframe tbody tr th:only-of-type {\n",
       "        vertical-align: middle;\n",
       "    }\n",
       "\n",
       "    .dataframe tbody tr th {\n",
       "        vertical-align: top;\n",
       "    }\n",
       "\n",
       "    .dataframe thead th {\n",
       "        text-align: right;\n",
       "    }\n",
       "</style>\n",
       "<table border=\"1\" class=\"dataframe\">\n",
       "  <thead>\n",
       "    <tr style=\"text-align: right;\">\n",
       "      <th></th>\n",
       "      <th>日期</th>\n",
       "      <th>最高气温℃</th>\n",
       "      <th>最低气温℃</th>\n",
       "      <th>天气</th>\n",
       "      <th>风向</th>\n",
       "      <th>风力</th>\n",
       "    </tr>\n",
       "  </thead>\n",
       "  <tbody>\n",
       "    <tr>\n",
       "      <th>0</th>\n",
       "      <td>2019/1/1</td>\n",
       "      <td>6</td>\n",
       "      <td>1</td>\n",
       "      <td>小雨</td>\n",
       "      <td>北风</td>\n",
       "      <td>微风</td>\n",
       "    </tr>\n",
       "    <tr>\n",
       "      <th>1</th>\n",
       "      <td>2019/1/2</td>\n",
       "      <td>5</td>\n",
       "      <td>3</td>\n",
       "      <td>小雨</td>\n",
       "      <td>西北风</td>\n",
       "      <td>微风</td>\n",
       "    </tr>\n",
       "    <tr>\n",
       "      <th>2</th>\n",
       "      <td>2019/1/3</td>\n",
       "      <td>9</td>\n",
       "      <td>4</td>\n",
       "      <td>小雨</td>\n",
       "      <td>北风</td>\n",
       "      <td>微风</td>\n",
       "    </tr>\n",
       "    <tr>\n",
       "      <th>3</th>\n",
       "      <td>2019/1/4</td>\n",
       "      <td>8</td>\n",
       "      <td>5</td>\n",
       "      <td>中雨</td>\n",
       "      <td>北风</td>\n",
       "      <td>微风</td>\n",
       "    </tr>\n",
       "    <tr>\n",
       "      <th>4</th>\n",
       "      <td>2019/1/5</td>\n",
       "      <td>6</td>\n",
       "      <td>3</td>\n",
       "      <td>中雨</td>\n",
       "      <td>北风</td>\n",
       "      <td>微风</td>\n",
       "    </tr>\n",
       "  </tbody>\n",
       "</table>\n",
       "</div>"
      ],
      "text/plain": [
       "         日期  最高气温℃  最低气温℃  天气   风向  风力\n",
       "0  2019/1/1      6      1  小雨   北风  微风\n",
       "1  2019/1/2      5      3  小雨  西北风  微风\n",
       "2  2019/1/3      9      4  小雨   北风  微风\n",
       "3  2019/1/4      8      5  中雨   北风  微风\n",
       "4  2019/1/5      6      3  中雨   北风  微风"
      ]
     },
     "execution_count": 45,
     "metadata": {},
     "output_type": "execute_result"
    }
   ],
   "source": [
    "weather = pd.read_csv('/Users/aeternae/Desktop/Analyse/Metro_predict/station_poi/weather.csv')\n",
    "weather.head()"
   ]
  },
  {
   "cell_type": "code",
   "execution_count": 46,
   "metadata": {
    "scrolled": true
   },
   "outputs": [],
   "source": [
    "weather['day'] = weather['日期'].apply(lambda x: x[7:]).astype('int64')\n",
    "weather['temp'] = (weather['最高气温℃'] + weather['最低气温℃']) / 2\n",
    "weather['weather'] = weather['天气']\n",
    "weather['weather'] = weather['weather'].apply(lambda x: x.replace('晴', '0'))\n",
    "weather['weather'] = weather['weather'].apply(lambda x: x.replace('多云', '1'))\n",
    "weather['weather'] = weather['weather'].apply(lambda x: x.replace('阴', '2'))\n",
    "weather['weather'] = weather['weather'].apply(lambda x: x.replace('小雨', '3'))\n",
    "weather['weather'] = weather['weather'].apply(lambda x: x.replace('中雨', '4'))\n",
    "weather['weather'] = weather['weather'].astype('int64')\n",
    "\n",
    "wea = weather[['day', 'temp', 'weather']]"
   ]
  },
  {
   "cell_type": "code",
   "execution_count": 49,
   "metadata": {},
   "outputs": [
    {
     "data": {
      "text/html": [
       "<div>\n",
       "<style scoped>\n",
       "    .dataframe tbody tr th:only-of-type {\n",
       "        vertical-align: middle;\n",
       "    }\n",
       "\n",
       "    .dataframe tbody tr th {\n",
       "        vertical-align: top;\n",
       "    }\n",
       "\n",
       "    .dataframe thead th {\n",
       "        text-align: right;\n",
       "    }\n",
       "</style>\n",
       "<table border=\"1\" class=\"dataframe\">\n",
       "  <thead>\n",
       "    <tr style=\"text-align: right;\">\n",
       "      <th></th>\n",
       "      <th>day</th>\n",
       "      <th>temp</th>\n",
       "      <th>weather</th>\n",
       "    </tr>\n",
       "  </thead>\n",
       "  <tbody>\n",
       "    <tr>\n",
       "      <th>0</th>\n",
       "      <td>1</td>\n",
       "      <td>3.5</td>\n",
       "      <td>3</td>\n",
       "    </tr>\n",
       "    <tr>\n",
       "      <th>1</th>\n",
       "      <td>2</td>\n",
       "      <td>4.0</td>\n",
       "      <td>3</td>\n",
       "    </tr>\n",
       "    <tr>\n",
       "      <th>2</th>\n",
       "      <td>3</td>\n",
       "      <td>6.5</td>\n",
       "      <td>3</td>\n",
       "    </tr>\n",
       "    <tr>\n",
       "      <th>3</th>\n",
       "      <td>4</td>\n",
       "      <td>6.5</td>\n",
       "      <td>4</td>\n",
       "    </tr>\n",
       "    <tr>\n",
       "      <th>4</th>\n",
       "      <td>5</td>\n",
       "      <td>4.5</td>\n",
       "      <td>4</td>\n",
       "    </tr>\n",
       "  </tbody>\n",
       "</table>\n",
       "</div>"
      ],
      "text/plain": [
       "   day  temp  weather\n",
       "0    1   3.5        3\n",
       "1    2   4.0        3\n",
       "2    3   6.5        3\n",
       "3    4   6.5        4\n",
       "4    5   4.5        4"
      ]
     },
     "execution_count": 49,
     "metadata": {},
     "output_type": "execute_result"
    }
   ],
   "source": [
    "wea.head()"
   ]
  },
  {
   "cell_type": "code",
   "execution_count": 111,
   "metadata": {},
   "outputs": [
    {
     "data": {
      "text/html": [
       "<div>\n",
       "<style scoped>\n",
       "    .dataframe tbody tr th:only-of-type {\n",
       "        vertical-align: middle;\n",
       "    }\n",
       "\n",
       "    .dataframe tbody tr th {\n",
       "        vertical-align: top;\n",
       "    }\n",
       "\n",
       "    .dataframe thead th {\n",
       "        text-align: right;\n",
       "    }\n",
       "</style>\n",
       "<table border=\"1\" class=\"dataframe\">\n",
       "  <thead>\n",
       "    <tr style=\"text-align: right;\">\n",
       "      <th></th>\n",
       "      <th>stationID</th>\n",
       "      <th>lineID</th>\n",
       "      <th>inNums</th>\n",
       "      <th>outNums</th>\n",
       "      <th>day</th>\n",
       "      <th>week</th>\n",
       "      <th>weekend</th>\n",
       "      <th>hour</th>\n",
       "      <th>minute</th>\n",
       "      <th>samePeo</th>\n",
       "      <th>...</th>\n",
       "      <th>医疗保健服务</th>\n",
       "      <th>住宿服务</th>\n",
       "      <th>风景名胜</th>\n",
       "      <th>科教文化服务</th>\n",
       "      <th>交通枢纽</th>\n",
       "      <th>生活类服务</th>\n",
       "      <th>公司</th>\n",
       "      <th>住宅区</th>\n",
       "      <th>temp</th>\n",
       "      <th>weather</th>\n",
       "    </tr>\n",
       "  </thead>\n",
       "  <tbody>\n",
       "    <tr>\n",
       "      <th>0</th>\n",
       "      <td>0</td>\n",
       "      <td>1</td>\n",
       "      <td>0.0</td>\n",
       "      <td>4.0</td>\n",
       "      <td>2</td>\n",
       "      <td>3</td>\n",
       "      <td>0</td>\n",
       "      <td>0</td>\n",
       "      <td>0</td>\n",
       "      <td>0.293261</td>\n",
       "      <td>...</td>\n",
       "      <td>5</td>\n",
       "      <td>2</td>\n",
       "      <td>3</td>\n",
       "      <td>6</td>\n",
       "      <td>21</td>\n",
       "      <td>82</td>\n",
       "      <td>22</td>\n",
       "      <td>10</td>\n",
       "      <td>4.0</td>\n",
       "      <td>3</td>\n",
       "    </tr>\n",
       "    <tr>\n",
       "      <th>1</th>\n",
       "      <td>0</td>\n",
       "      <td>1</td>\n",
       "      <td>0.0</td>\n",
       "      <td>0.0</td>\n",
       "      <td>2</td>\n",
       "      <td>3</td>\n",
       "      <td>0</td>\n",
       "      <td>0</td>\n",
       "      <td>10</td>\n",
       "      <td>0.293261</td>\n",
       "      <td>...</td>\n",
       "      <td>5</td>\n",
       "      <td>2</td>\n",
       "      <td>3</td>\n",
       "      <td>6</td>\n",
       "      <td>21</td>\n",
       "      <td>82</td>\n",
       "      <td>22</td>\n",
       "      <td>10</td>\n",
       "      <td>4.0</td>\n",
       "      <td>3</td>\n",
       "    </tr>\n",
       "    <tr>\n",
       "      <th>2</th>\n",
       "      <td>0</td>\n",
       "      <td>1</td>\n",
       "      <td>0.0</td>\n",
       "      <td>3.0</td>\n",
       "      <td>2</td>\n",
       "      <td>3</td>\n",
       "      <td>0</td>\n",
       "      <td>0</td>\n",
       "      <td>20</td>\n",
       "      <td>0.293261</td>\n",
       "      <td>...</td>\n",
       "      <td>5</td>\n",
       "      <td>2</td>\n",
       "      <td>3</td>\n",
       "      <td>6</td>\n",
       "      <td>21</td>\n",
       "      <td>82</td>\n",
       "      <td>22</td>\n",
       "      <td>10</td>\n",
       "      <td>4.0</td>\n",
       "      <td>3</td>\n",
       "    </tr>\n",
       "    <tr>\n",
       "      <th>3</th>\n",
       "      <td>0</td>\n",
       "      <td>1</td>\n",
       "      <td>0.0</td>\n",
       "      <td>0.0</td>\n",
       "      <td>2</td>\n",
       "      <td>3</td>\n",
       "      <td>0</td>\n",
       "      <td>0</td>\n",
       "      <td>30</td>\n",
       "      <td>0.293261</td>\n",
       "      <td>...</td>\n",
       "      <td>5</td>\n",
       "      <td>2</td>\n",
       "      <td>3</td>\n",
       "      <td>6</td>\n",
       "      <td>21</td>\n",
       "      <td>82</td>\n",
       "      <td>22</td>\n",
       "      <td>10</td>\n",
       "      <td>4.0</td>\n",
       "      <td>3</td>\n",
       "    </tr>\n",
       "    <tr>\n",
       "      <th>4</th>\n",
       "      <td>0</td>\n",
       "      <td>1</td>\n",
       "      <td>0.0</td>\n",
       "      <td>0.0</td>\n",
       "      <td>2</td>\n",
       "      <td>3</td>\n",
       "      <td>0</td>\n",
       "      <td>0</td>\n",
       "      <td>40</td>\n",
       "      <td>0.293261</td>\n",
       "      <td>...</td>\n",
       "      <td>5</td>\n",
       "      <td>2</td>\n",
       "      <td>3</td>\n",
       "      <td>6</td>\n",
       "      <td>21</td>\n",
       "      <td>82</td>\n",
       "      <td>22</td>\n",
       "      <td>10</td>\n",
       "      <td>4.0</td>\n",
       "      <td>3</td>\n",
       "    </tr>\n",
       "  </tbody>\n",
       "</table>\n",
       "<p>5 rows × 22 columns</p>\n",
       "</div>"
      ],
      "text/plain": [
       "   stationID  lineID  inNums  outNums  day  week  weekend  hour  minute  \\\n",
       "0          0       1     0.0      4.0    2     3        0     0       0   \n",
       "1          0       1     0.0      0.0    2     3        0     0      10   \n",
       "2          0       1     0.0      3.0    2     3        0     0      20   \n",
       "3          0       1     0.0      0.0    2     3        0     0      30   \n",
       "4          0       1     0.0      0.0    2     3        0     0      40   \n",
       "\n",
       "    samePeo  ...  医疗保健服务  住宿服务  风景名胜  科教文化服务  交通枢纽  生活类服务  公司  住宅区  temp  \\\n",
       "0  0.293261  ...       5     2     3       6    21     82  22   10   4.0   \n",
       "1  0.293261  ...       5     2     3       6    21     82  22   10   4.0   \n",
       "2  0.293261  ...       5     2     3       6    21     82  22   10   4.0   \n",
       "3  0.293261  ...       5     2     3       6    21     82  22   10   4.0   \n",
       "4  0.293261  ...       5     2     3       6    21     82  22   10   4.0   \n",
       "\n",
       "   weather  \n",
       "0        3  \n",
       "1        3  \n",
       "2        3  \n",
       "3        3  \n",
       "4        3  \n",
       "\n",
       "[5 rows x 22 columns]"
      ]
     },
     "execution_count": 111,
     "metadata": {},
     "output_type": "execute_result"
    }
   ],
   "source": [
    "df_train = pd.merge(df_train, wea, how='left', on=['day'])\n",
    "df_train.head()"
   ]
  },
  {
   "cell_type": "code",
   "execution_count": 57,
   "metadata": {},
   "outputs": [],
   "source": [
    "# 封装函数\n",
    "def get_more_features(df_):\n",
    "    df = df_.copy()\n",
    "    df = get_base_features(df)\n",
    "    \n",
    "    df = pd.merge(df, station_poi, how='left', on=['stationID'])\n",
    "    df = df.loc[:, use_columns]\n",
    "    df.rename(columns={'线路':'lineID'}, inplace = True)\n",
    "    df = pd.merge(df, wea, how='left', on=['day'])\n",
    "    \n",
    "    return df"
   ]
  },
  {
   "cell_type": "markdown",
   "metadata": {},
   "source": [
    "#### randomForest"
   ]
  },
  {
   "cell_type": "code",
   "execution_count": 53,
   "metadata": {},
   "outputs": [],
   "source": [
    "data_columns = [0,1,4,5,6,7,8,9,10,11,12,13,14,15,16,17,18,19,20,21]\n",
    "label_columns = [2,3]"
   ]
  },
  {
   "cell_type": "code",
   "execution_count": 54,
   "metadata": {},
   "outputs": [],
   "source": [
    "df2_X = df_train.iloc[:, data_columns]\n",
    "df2_y = df_train.iloc[:, label_columns]"
   ]
  },
  {
   "cell_type": "code",
   "execution_count": 55,
   "metadata": {
    "scrolled": true
   },
   "outputs": [
    {
     "data": {
      "text/plain": [
       "RandomForestRegressor(bootstrap=True, criterion='mse', max_depth=None,\n",
       "           max_features='auto', max_leaf_nodes=None,\n",
       "           min_impurity_decrease=0.0, min_impurity_split=None,\n",
       "           min_samples_leaf=1, min_samples_split=2,\n",
       "           min_weight_fraction_leaf=0.0, n_estimators=500, n_jobs=-1,\n",
       "           oob_score=True, random_state=None, verbose=0, warm_start=False)"
      ]
     },
     "execution_count": 55,
     "metadata": {},
     "output_type": "execute_result"
    }
   ],
   "source": [
    "from sklearn.ensemble import RandomForestRegressor\n",
    "\n",
    "rf_reg = RandomForestRegressor(n_estimators=500, oob_score=True, n_jobs=-1)\n",
    "rf_reg.fit(df2_X, df2_y)"
   ]
  },
  {
   "cell_type": "code",
   "execution_count": 56,
   "metadata": {},
   "outputs": [
    {
     "data": {
      "text/plain": [
       "0.9724653510934687"
      ]
     },
     "execution_count": 56,
     "metadata": {},
     "output_type": "execute_result"
    }
   ],
   "source": [
    "rf_reg.oob_score_"
   ]
  },
  {
   "cell_type": "code",
   "execution_count": 58,
   "metadata": {},
   "outputs": [
    {
     "data": {
      "text/html": [
       "<div>\n",
       "<style scoped>\n",
       "    .dataframe tbody tr th:only-of-type {\n",
       "        vertical-align: middle;\n",
       "    }\n",
       "\n",
       "    .dataframe tbody tr th {\n",
       "        vertical-align: top;\n",
       "    }\n",
       "\n",
       "    .dataframe thead th {\n",
       "        text-align: right;\n",
       "    }\n",
       "</style>\n",
       "<table border=\"1\" class=\"dataframe\">\n",
       "  <thead>\n",
       "    <tr style=\"text-align: right;\">\n",
       "      <th></th>\n",
       "      <th>stationID</th>\n",
       "      <th>lineID</th>\n",
       "      <th>inNums</th>\n",
       "      <th>outNums</th>\n",
       "      <th>day</th>\n",
       "      <th>week</th>\n",
       "      <th>weekend</th>\n",
       "      <th>hour</th>\n",
       "      <th>minute</th>\n",
       "      <th>samePeo</th>\n",
       "      <th>...</th>\n",
       "      <th>医疗保健服务</th>\n",
       "      <th>住宿服务</th>\n",
       "      <th>风景名胜</th>\n",
       "      <th>科教文化服务</th>\n",
       "      <th>交通枢纽</th>\n",
       "      <th>生活类服务</th>\n",
       "      <th>公司</th>\n",
       "      <th>住宅区</th>\n",
       "      <th>temp</th>\n",
       "      <th>weather</th>\n",
       "    </tr>\n",
       "  </thead>\n",
       "  <tbody>\n",
       "    <tr>\n",
       "      <th>0</th>\n",
       "      <td>0</td>\n",
       "      <td>1</td>\n",
       "      <td>0.0</td>\n",
       "      <td>1.0</td>\n",
       "      <td>28</td>\n",
       "      <td>1</td>\n",
       "      <td>0</td>\n",
       "      <td>0</td>\n",
       "      <td>0</td>\n",
       "      <td>0.271884</td>\n",
       "      <td>...</td>\n",
       "      <td>5</td>\n",
       "      <td>2</td>\n",
       "      <td>3</td>\n",
       "      <td>6</td>\n",
       "      <td>21</td>\n",
       "      <td>82</td>\n",
       "      <td>22</td>\n",
       "      <td>10</td>\n",
       "      <td>7.0</td>\n",
       "      <td>1</td>\n",
       "    </tr>\n",
       "    <tr>\n",
       "      <th>1</th>\n",
       "      <td>0</td>\n",
       "      <td>1</td>\n",
       "      <td>0.0</td>\n",
       "      <td>2.0</td>\n",
       "      <td>28</td>\n",
       "      <td>1</td>\n",
       "      <td>0</td>\n",
       "      <td>0</td>\n",
       "      <td>10</td>\n",
       "      <td>0.271884</td>\n",
       "      <td>...</td>\n",
       "      <td>5</td>\n",
       "      <td>2</td>\n",
       "      <td>3</td>\n",
       "      <td>6</td>\n",
       "      <td>21</td>\n",
       "      <td>82</td>\n",
       "      <td>22</td>\n",
       "      <td>10</td>\n",
       "      <td>7.0</td>\n",
       "      <td>1</td>\n",
       "    </tr>\n",
       "    <tr>\n",
       "      <th>2</th>\n",
       "      <td>0</td>\n",
       "      <td>1</td>\n",
       "      <td>0.0</td>\n",
       "      <td>0.0</td>\n",
       "      <td>28</td>\n",
       "      <td>1</td>\n",
       "      <td>0</td>\n",
       "      <td>0</td>\n",
       "      <td>20</td>\n",
       "      <td>0.271884</td>\n",
       "      <td>...</td>\n",
       "      <td>5</td>\n",
       "      <td>2</td>\n",
       "      <td>3</td>\n",
       "      <td>6</td>\n",
       "      <td>21</td>\n",
       "      <td>82</td>\n",
       "      <td>22</td>\n",
       "      <td>10</td>\n",
       "      <td>7.0</td>\n",
       "      <td>1</td>\n",
       "    </tr>\n",
       "    <tr>\n",
       "      <th>3</th>\n",
       "      <td>0</td>\n",
       "      <td>1</td>\n",
       "      <td>0.0</td>\n",
       "      <td>0.0</td>\n",
       "      <td>28</td>\n",
       "      <td>1</td>\n",
       "      <td>0</td>\n",
       "      <td>0</td>\n",
       "      <td>30</td>\n",
       "      <td>0.271884</td>\n",
       "      <td>...</td>\n",
       "      <td>5</td>\n",
       "      <td>2</td>\n",
       "      <td>3</td>\n",
       "      <td>6</td>\n",
       "      <td>21</td>\n",
       "      <td>82</td>\n",
       "      <td>22</td>\n",
       "      <td>10</td>\n",
       "      <td>7.0</td>\n",
       "      <td>1</td>\n",
       "    </tr>\n",
       "    <tr>\n",
       "      <th>4</th>\n",
       "      <td>0</td>\n",
       "      <td>1</td>\n",
       "      <td>0.0</td>\n",
       "      <td>0.0</td>\n",
       "      <td>28</td>\n",
       "      <td>1</td>\n",
       "      <td>0</td>\n",
       "      <td>0</td>\n",
       "      <td>40</td>\n",
       "      <td>0.271884</td>\n",
       "      <td>...</td>\n",
       "      <td>5</td>\n",
       "      <td>2</td>\n",
       "      <td>3</td>\n",
       "      <td>6</td>\n",
       "      <td>21</td>\n",
       "      <td>82</td>\n",
       "      <td>22</td>\n",
       "      <td>10</td>\n",
       "      <td>7.0</td>\n",
       "      <td>1</td>\n",
       "    </tr>\n",
       "  </tbody>\n",
       "</table>\n",
       "<p>5 rows × 22 columns</p>\n",
       "</div>"
      ],
      "text/plain": [
       "   stationID  lineID  inNums  outNums  day  week  weekend  hour  minute  \\\n",
       "0          0       1     0.0      1.0   28     1        0     0       0   \n",
       "1          0       1     0.0      2.0   28     1        0     0      10   \n",
       "2          0       1     0.0      0.0   28     1        0     0      20   \n",
       "3          0       1     0.0      0.0   28     1        0     0      30   \n",
       "4          0       1     0.0      0.0   28     1        0     0      40   \n",
       "\n",
       "    samePeo  ...  医疗保健服务  住宿服务  风景名胜  科教文化服务  交通枢纽  生活类服务  公司  住宅区  temp  \\\n",
       "0  0.271884  ...       5     2     3       6    21     82  22   10   7.0   \n",
       "1  0.271884  ...       5     2     3       6    21     82  22   10   7.0   \n",
       "2  0.271884  ...       5     2     3       6    21     82  22   10   7.0   \n",
       "3  0.271884  ...       5     2     3       6    21     82  22   10   7.0   \n",
       "4  0.271884  ...       5     2     3       6    21     82  22   10   7.0   \n",
       "\n",
       "   weather  \n",
       "0        1  \n",
       "1        1  \n",
       "2        1  \n",
       "3        1  \n",
       "4        1  \n",
       "\n",
       "[5 rows x 22 columns]"
      ]
     },
     "execution_count": 58,
     "metadata": {},
     "output_type": "execute_result"
    }
   ],
   "source": [
    "# 28号为周一\n",
    "df28 = get_more_features(test_28)  \n",
    "df28.head()"
   ]
  },
  {
   "cell_type": "code",
   "execution_count": 59,
   "metadata": {},
   "outputs": [],
   "source": [
    "df28_X = df28.iloc[:, data_columns]\n",
    "df28_y = df28.iloc[:, label_columns]"
   ]
  },
  {
   "cell_type": "code",
   "execution_count": 60,
   "metadata": {},
   "outputs": [],
   "source": [
    "df28_y_pre = rf_reg.predict(df28_X)"
   ]
  },
  {
   "cell_type": "code",
   "execution_count": 61,
   "metadata": {},
   "outputs": [
    {
     "data": {
      "text/plain": [
       "0.9518964071302837"
      ]
     },
     "execution_count": 61,
     "metadata": {},
     "output_type": "execute_result"
    }
   ],
   "source": [
    "rf_reg.score(df28_X, df28_y)"
   ]
  },
  {
   "cell_type": "code",
   "execution_count": 62,
   "metadata": {},
   "outputs": [
    {
     "data": {
      "text/plain": [
       "17.225859586720922"
      ]
     },
     "execution_count": 62,
     "metadata": {},
     "output_type": "execute_result"
    }
   ],
   "source": [
    "from sklearn.metrics import mean_absolute_error\n",
    "mean_absolute_error(df28_y, df28_y_pre)"
   ]
  },
  {
   "cell_type": "code",
   "execution_count": 63,
   "metadata": {},
   "outputs": [
    {
     "data": {
      "text/plain": [
       "Index(['hour', 'samePeo', 'stationID', '公司', 'minute', '生活类服务', 'week', 'day',\n",
       "       'day_since_first', 'weekend', '科教文化服务', '住宅区', '住宿服务', 'temp', '风景名胜',\n",
       "       '交通枢纽', '医疗保健服务', '体育休闲服务', 'weather', '线路'],\n",
       "      dtype='object')"
      ]
     },
     "execution_count": 63,
     "metadata": {},
     "output_type": "execute_result"
    }
   ],
   "source": [
    "feature = df2_X.columns\n",
    "importances = rf_reg.feature_importances_\n",
    "index = np.argsort(importances)[::-1]\n",
    "feature[index]"
   ]
  },
  {
   "cell_type": "code",
   "execution_count": 68,
   "metadata": {
    "scrolled": false
   },
   "outputs": [
    {
     "data": {
      "image/png": "[encoded data removed]",
      "text/plain": [
       "<Figure size 2240x640 with 1 Axes>"
      ]
     },
     "metadata": {
      "needs_background": "light"
     },
     "output_type": "display_data"
    }
   ],
   "source": [
    "import matplotlib.pyplot as plt\n",
    "plt.rcParams['font.sans-serif']=['SimHei']\n",
    "plt.rcParams['axes.unicode_minus']=False\n",
    "%matplotlib inline\n",
    "\n",
    "plt.figure(figsize = (28, 8), dpi = 80)\n",
    "plt.bar(feature[index], importances[index], color=\"g\", align=\"center\")\n",
    "plt.tick_params(labelsize=13)     "
   ]
  },
  {
   "cell_type": "code",
   "execution_count": 69,
   "metadata": {},
   "outputs": [
    {
     "data": {
      "text/html": [
       "<div>\n",
       "<style scoped>\n",
       "    .dataframe tbody tr th:only-of-type {\n",
       "        vertical-align: middle;\n",
       "    }\n",
       "\n",
       "    .dataframe tbody tr th {\n",
       "        vertical-align: top;\n",
       "    }\n",
       "\n",
       "    .dataframe thead th {\n",
       "        text-align: right;\n",
       "    }\n",
       "</style>\n",
       "<table border=\"1\" class=\"dataframe\">\n",
       "  <thead>\n",
       "    <tr style=\"text-align: right;\">\n",
       "      <th></th>\n",
       "      <th>stationID</th>\n",
       "      <th>lineID</th>\n",
       "      <th>inNums</th>\n",
       "      <th>outNums</th>\n",
       "      <th>day</th>\n",
       "      <th>week</th>\n",
       "      <th>weekend</th>\n",
       "      <th>hour</th>\n",
       "      <th>minute</th>\n",
       "      <th>samePeo</th>\n",
       "      <th>...</th>\n",
       "      <th>医疗保健服务</th>\n",
       "      <th>住宿服务</th>\n",
       "      <th>风景名胜</th>\n",
       "      <th>科教文化服务</th>\n",
       "      <th>交通枢纽</th>\n",
       "      <th>生活类服务</th>\n",
       "      <th>公司</th>\n",
       "      <th>住宅区</th>\n",
       "      <th>temp</th>\n",
       "      <th>weather</th>\n",
       "    </tr>\n",
       "  </thead>\n",
       "  <tbody>\n",
       "    <tr>\n",
       "      <th>0</th>\n",
       "      <td>0</td>\n",
       "      <td>1</td>\n",
       "      <td>0.0</td>\n",
       "      <td>1.0</td>\n",
       "      <td>26</td>\n",
       "      <td>6</td>\n",
       "      <td>1</td>\n",
       "      <td>0</td>\n",
       "      <td>0</td>\n",
       "      <td>0.253999</td>\n",
       "      <td>...</td>\n",
       "      <td>5</td>\n",
       "      <td>2</td>\n",
       "      <td>3</td>\n",
       "      <td>6</td>\n",
       "      <td>21</td>\n",
       "      <td>82</td>\n",
       "      <td>22</td>\n",
       "      <td>10</td>\n",
       "      <td>3.0</td>\n",
       "      <td>1</td>\n",
       "    </tr>\n",
       "    <tr>\n",
       "      <th>1</th>\n",
       "      <td>0</td>\n",
       "      <td>1</td>\n",
       "      <td>0.0</td>\n",
       "      <td>3.0</td>\n",
       "      <td>26</td>\n",
       "      <td>6</td>\n",
       "      <td>1</td>\n",
       "      <td>0</td>\n",
       "      <td>10</td>\n",
       "      <td>0.253999</td>\n",
       "      <td>...</td>\n",
       "      <td>5</td>\n",
       "      <td>2</td>\n",
       "      <td>3</td>\n",
       "      <td>6</td>\n",
       "      <td>21</td>\n",
       "      <td>82</td>\n",
       "      <td>22</td>\n",
       "      <td>10</td>\n",
       "      <td>3.0</td>\n",
       "      <td>1</td>\n",
       "    </tr>\n",
       "    <tr>\n",
       "      <th>2</th>\n",
       "      <td>0</td>\n",
       "      <td>1</td>\n",
       "      <td>0.0</td>\n",
       "      <td>2.0</td>\n",
       "      <td>26</td>\n",
       "      <td>6</td>\n",
       "      <td>1</td>\n",
       "      <td>0</td>\n",
       "      <td>20</td>\n",
       "      <td>0.253999</td>\n",
       "      <td>...</td>\n",
       "      <td>5</td>\n",
       "      <td>2</td>\n",
       "      <td>3</td>\n",
       "      <td>6</td>\n",
       "      <td>21</td>\n",
       "      <td>82</td>\n",
       "      <td>22</td>\n",
       "      <td>10</td>\n",
       "      <td>3.0</td>\n",
       "      <td>1</td>\n",
       "    </tr>\n",
       "    <tr>\n",
       "      <th>3</th>\n",
       "      <td>0</td>\n",
       "      <td>1</td>\n",
       "      <td>0.0</td>\n",
       "      <td>0.0</td>\n",
       "      <td>26</td>\n",
       "      <td>6</td>\n",
       "      <td>1</td>\n",
       "      <td>0</td>\n",
       "      <td>30</td>\n",
       "      <td>0.253999</td>\n",
       "      <td>...</td>\n",
       "      <td>5</td>\n",
       "      <td>2</td>\n",
       "      <td>3</td>\n",
       "      <td>6</td>\n",
       "      <td>21</td>\n",
       "      <td>82</td>\n",
       "      <td>22</td>\n",
       "      <td>10</td>\n",
       "      <td>3.0</td>\n",
       "      <td>1</td>\n",
       "    </tr>\n",
       "    <tr>\n",
       "      <th>4</th>\n",
       "      <td>0</td>\n",
       "      <td>1</td>\n",
       "      <td>0.0</td>\n",
       "      <td>0.0</td>\n",
       "      <td>26</td>\n",
       "      <td>6</td>\n",
       "      <td>1</td>\n",
       "      <td>0</td>\n",
       "      <td>40</td>\n",
       "      <td>0.253999</td>\n",
       "      <td>...</td>\n",
       "      <td>5</td>\n",
       "      <td>2</td>\n",
       "      <td>3</td>\n",
       "      <td>6</td>\n",
       "      <td>21</td>\n",
       "      <td>82</td>\n",
       "      <td>22</td>\n",
       "      <td>10</td>\n",
       "      <td>3.0</td>\n",
       "      <td>1</td>\n",
       "    </tr>\n",
       "  </tbody>\n",
       "</table>\n",
       "<p>5 rows × 22 columns</p>\n",
       "</div>"
      ],
      "text/plain": [
       "   stationID  lineID  inNums  outNums  day  week  weekend  hour  minute  \\\n",
       "0          0       1     0.0      1.0   26     6        1     0       0   \n",
       "1          0       1     0.0      3.0   26     6        1     0      10   \n",
       "2          0       1     0.0      2.0   26     6        1     0      20   \n",
       "3          0       1     0.0      0.0   26     6        1     0      30   \n",
       "4          0       1     0.0      0.0   26     6        1     0      40   \n",
       "\n",
       "    samePeo  ...  医疗保健服务  住宿服务  风景名胜  科教文化服务  交通枢纽  生活类服务  公司  住宅区  temp  \\\n",
       "0  0.253999  ...       5     2     3       6    21     82  22   10   3.0   \n",
       "1  0.253999  ...       5     2     3       6    21     82  22   10   3.0   \n",
       "2  0.253999  ...       5     2     3       6    21     82  22   10   3.0   \n",
       "3  0.253999  ...       5     2     3       6    21     82  22   10   3.0   \n",
       "4  0.253999  ...       5     2     3       6    21     82  22   10   3.0   \n",
       "\n",
       "   weather  \n",
       "0        1  \n",
       "1        1  \n",
       "2        1  \n",
       "3        1  \n",
       "4        1  \n",
       "\n",
       "[5 rows x 22 columns]"
      ]
     },
     "execution_count": 69,
     "metadata": {},
     "output_type": "execute_result"
    }
   ],
   "source": [
    "# 26号为周六\n",
    "test_26 = pd.read_csv(path + 'Metro_testB/testB_record_2019-01-26.csv')\n",
    "df26 = get_more_features(test_26)  \n",
    "df26.head()"
   ]
  },
  {
   "cell_type": "code",
   "execution_count": 70,
   "metadata": {},
   "outputs": [],
   "source": [
    "df26_X = df26.iloc[:, data_columns]\n",
    "df26_y = df26.iloc[:, label_columns]"
   ]
  },
  {
   "cell_type": "code",
   "execution_count": 71,
   "metadata": {},
   "outputs": [],
   "source": [
    "df26_y_pre = rf_reg.predict(df26_X)"
   ]
  },
  {
   "cell_type": "code",
   "execution_count": 72,
   "metadata": {},
   "outputs": [
    {
     "data": {
      "text/plain": [
       "0.01211131477563617"
      ]
     },
     "execution_count": 72,
     "metadata": {},
     "output_type": "execute_result"
    }
   ],
   "source": [
    "rf_reg.score(df26_X, df26_y)"
   ]
  },
  {
   "cell_type": "code",
   "execution_count": 73,
   "metadata": {},
   "outputs": [
    {
     "data": {
      "text/plain": [
       "75.74335281165287"
      ]
     },
     "execution_count": 73,
     "metadata": {},
     "output_type": "execute_result"
    }
   ],
   "source": [
    "# 预测周末准确率感人\n",
    "mean_absolute_error(df26_y, df26_y_pre)"
   ]
  },
  {
   "cell_type": "markdown",
   "metadata": {},
   "source": [
    "### 分日期预测"
   ]
  },
  {
   "cell_type": "markdown",
   "metadata": {},
   "source": [
    "#### 用全月的工作日预测28号，周一"
   ]
  },
  {
   "cell_type": "code",
   "execution_count": 87,
   "metadata": {},
   "outputs": [],
   "source": [
    "df_train_weekday = df_train[df_train['weekend']==0]\n",
    "df_train_weekend = df_train[df_train['weekend']==1]"
   ]
  },
  {
   "cell_type": "code",
   "execution_count": 88,
   "metadata": {},
   "outputs": [],
   "source": [
    "df_mon_X = df_train_weekday.iloc[:, data_columns]\n",
    "df_mon_y = df_train_weekday.iloc[:, label_columns]"
   ]
  },
  {
   "cell_type": "code",
   "execution_count": 89,
   "metadata": {},
   "outputs": [
    {
     "data": {
      "text/plain": [
       "RandomForestRegressor(bootstrap=True, criterion='mse', max_depth=None,\n",
       "           max_features='auto', max_leaf_nodes=None,\n",
       "           min_impurity_decrease=0.0, min_impurity_split=None,\n",
       "           min_samples_leaf=1, min_samples_split=2,\n",
       "           min_weight_fraction_leaf=0.0, n_estimators=500, n_jobs=-1,\n",
       "           oob_score=True, random_state=666, verbose=0, warm_start=False)"
      ]
     },
     "execution_count": 89,
     "metadata": {},
     "output_type": "execute_result"
    }
   ],
   "source": [
    "from sklearn.ensemble import RandomForestRegressor\n",
    "\n",
    "rf_reg_mon = RandomForestRegressor(n_estimators=500, random_state=666, oob_score=True, n_jobs=-1)\n",
    "rf_reg_mon.fit(df_mon_X, df_mon_y)"
   ]
  },
  {
   "cell_type": "code",
   "execution_count": 90,
   "metadata": {},
   "outputs": [],
   "source": [
    "df28_y_pre = rf_reg_mon.predict(df28_X)"
   ]
  },
  {
   "cell_type": "code",
   "execution_count": 91,
   "metadata": {},
   "outputs": [
    {
     "data": {
      "text/plain": [
       "0.9549102301778368"
      ]
     },
     "execution_count": 91,
     "metadata": {},
     "output_type": "execute_result"
    }
   ],
   "source": [
    "rf_reg_mon.score(df28_X, df28_y)"
   ]
  },
  {
   "cell_type": "code",
   "execution_count": 92,
   "metadata": {},
   "outputs": [
    {
     "data": {
      "text/plain": [
       "17.059564278455287"
      ]
     },
     "execution_count": 92,
     "metadata": {},
     "output_type": "execute_result"
    }
   ],
   "source": [
    "from sklearn.metrics import mean_absolute_error\n",
    "mean_absolute_error(df28_y, df28_y_pre)"
   ]
  },
  {
   "cell_type": "code",
   "execution_count": 94,
   "metadata": {},
   "outputs": [
    {
     "data": {
      "image/png": "[encoded data removed]",
      "text/plain": [
       "<Figure size 2240x640 with 1 Axes>"
      ]
     },
     "metadata": {
      "needs_background": "light"
     },
     "output_type": "display_data"
    }
   ],
   "source": [
    "feature = df_mon_X.columns\n",
    "importances = rf_reg_mon.feature_importances_\n",
    "index = np.argsort(importances)[::-1]\n",
    "feature[index]\n",
    "\n",
    "plt.figure(figsize = (28, 8), dpi = 80)\n",
    "plt.bar(feature[index], importances[index], color=\"g\", align=\"center\")\n",
    "plt.tick_params(labelsize=15)     "
   ]
  },
  {
   "cell_type": "markdown",
   "metadata": {},
   "source": [
    "#### 用上周的工作日 + 全月的周一，预测28号"
   ]
  },
  {
   "cell_type": "code",
   "execution_count": 153,
   "metadata": {},
   "outputs": [],
   "source": [
    "df_train_4week_mon = df_train[(df_train['weekend']==0) & ((df_train['day']>20) | (df_train['week']==1))]"
   ]
  },
  {
   "cell_type": "code",
   "execution_count": 96,
   "metadata": {},
   "outputs": [],
   "source": [
    "df_pro_X = df_train_4week_mon.iloc[:, data_columns]\n",
    "df_pro_y = df_train_4week_mon.iloc[:, label_columns]"
   ]
  },
  {
   "cell_type": "code",
   "execution_count": 101,
   "metadata": {
    "scrolled": true
   },
   "outputs": [
    {
     "data": {
      "text/plain": [
       "RandomForestRegressor(bootstrap=True, criterion='mse', max_depth=None,\n",
       "           max_features='auto', max_leaf_nodes=None,\n",
       "           min_impurity_decrease=0.0, min_impurity_split=None,\n",
       "           min_samples_leaf=1, min_samples_split=2,\n",
       "           min_weight_fraction_leaf=0.0, n_estimators=500, n_jobs=-1,\n",
       "           oob_score=True, random_state=None, verbose=0, warm_start=False)"
      ]
     },
     "execution_count": 101,
     "metadata": {},
     "output_type": "execute_result"
    }
   ],
   "source": [
    "rf_reg_pro = RandomForestRegressor(n_estimators=500, oob_score=True, n_jobs=-1)\n",
    "rf_reg_pro.fit(df_pro_X, df_pro_y)"
   ]
  },
  {
   "cell_type": "code",
   "execution_count": 102,
   "metadata": {},
   "outputs": [
    {
     "data": {
      "text/plain": [
       "0.9643896360865573"
      ]
     },
     "execution_count": 102,
     "metadata": {},
     "output_type": "execute_result"
    }
   ],
   "source": [
    "rf_reg_pro.score(df28_X, df28_y)"
   ]
  },
  {
   "cell_type": "code",
   "execution_count": 103,
   "metadata": {},
   "outputs": [],
   "source": [
    "df28_y_pre = rf_reg_pro.predict(df28_X)"
   ]
  },
  {
   "cell_type": "code",
   "execution_count": 104,
   "metadata": {},
   "outputs": [
    {
     "data": {
      "text/plain": [
       "14.744007452574412"
      ]
     },
     "execution_count": 104,
     "metadata": {},
     "output_type": "execute_result"
    }
   ],
   "source": [
    "mean_absolute_error(df28_y, df28_y_pre)"
   ]
  },
  {
   "cell_type": "code",
   "execution_count": 105,
   "metadata": {},
   "outputs": [
    {
     "data": {
      "image/png": "[encoded data removed]",
      "text/plain": [
       "<Figure size 2240x640 with 1 Axes>"
      ]
     },
     "metadata": {
      "needs_background": "light"
     },
     "output_type": "display_data"
    }
   ],
   "source": [
    "feature = df_pro_X.columns\n",
    "importances = rf_reg_pro.feature_importances_\n",
    "index = np.argsort(importances)[::-1]\n",
    "feature[index]\n",
    "\n",
    "plt.figure(figsize = (28, 8), dpi = 80)\n",
    "plt.bar(feature[index], importances[index], color=\"g\", align=\"center\")\n",
    "plt.tick_params(labelsize=15)  "
   ]
  },
  {
   "cell_type": "markdown",
   "metadata": {},
   "source": [
    "#### xgboost"
   ]
  },
  {
   "cell_type": "code",
   "execution_count": 154,
   "metadata": {},
   "outputs": [],
   "source": [
    "from sklearn.model_selection import train_test_split\n",
    "\n",
    "train, valid = train_test_split(df_train_4week_mon, test_size = 0.2, random_state=1)\n",
    "\n",
    "train_X = train.iloc[:, data_columns]\n",
    "train_y_in  = train.iloc[:, 2]\n",
    "train_y_out = train.iloc[:, 3]\n",
    "\n",
    "valid_X = valid.iloc[:, data_columns]\n",
    "valid_y_in  = valid.iloc[:, 2]\n",
    "valid_y_out = valid.iloc[:, 3]\n",
    "\n",
    "#xgb矩阵赋值\n",
    "xgb_train_in = xgb.DMatrix(train_X, label=train_y_in)\n",
    "xgb_val_in = xgb.DMatrix(valid_X, label=valid_y_in)\n",
    "\n",
    "xgb_train_out = xgb.DMatrix(train_X, label=train_y_out)\n",
    "xgb_val_out = xgb.DMatrix(valid_X, label=valid_y_out)\n",
    "\n",
    "df28_X = df28.iloc[:, data_columns]\n",
    "xgb_test = xgb.DMatrix(df28_X)\n",
    "y_test_in  = df28.iloc[:, 2]\n",
    "y_test_out = df28.iloc[:, 3]"
   ]
  },
  {
   "cell_type": "code",
   "execution_count": 159,
   "metadata": {},
   "outputs": [],
   "source": [
    "watchlist = [(xgb_train_in, 'train'), (xgb_val_in, 'val')]\n",
    "xgb_params = {'eta': 0.02, 'gamma': 0, 'max_depth': 8, 'subsample': 0.8, 'colsample_bytree': 0.8, \n",
    "              'objective': 'reg:linear', 'eval_metric': 'mae', 'silent': True}"
   ]
  },
  {
   "cell_type": "code",
   "execution_count": 160,
   "metadata": {
    "scrolled": true
   },
   "outputs": [
    {
     "name": "stdout",
     "output_type": "stream",
     "text": [
      "[0]\ttrain-mae:100.387\tval-mae:101.484\n",
      "Multiple eval metrics have been passed: 'val-mae' will be used for early stopping.\n",
      "\n",
      "Will train until val-mae hasn't improved in 100 rounds.\n",
      "[200]\ttrain-mae:20.6485\tval-mae:21.3038\n",
      "[400]\ttrain-mae:14.4654\tval-mae:15.5223\n",
      "[600]\ttrain-mae:12.449\tval-mae:13.9002\n",
      "[800]\ttrain-mae:11.403\tval-mae:13.1593\n",
      "[1000]\ttrain-mae:10.6632\tval-mae:12.6961\n",
      "[1200]\ttrain-mae:10.1873\tval-mae:12.4223\n",
      "[1400]\ttrain-mae:9.80762\tval-mae:12.2259\n",
      "[1600]\ttrain-mae:9.46062\tval-mae:12.0564\n",
      "[1800]\ttrain-mae:9.17335\tval-mae:11.9333\n",
      "[2000]\ttrain-mae:8.91966\tval-mae:11.8315\n",
      "[2200]\ttrain-mae:8.70416\tval-mae:11.7621\n",
      "[2400]\ttrain-mae:8.51246\tval-mae:11.7035\n",
      "[2600]\ttrain-mae:8.3408\tval-mae:11.6556\n",
      "[2800]\ttrain-mae:8.17267\tval-mae:11.6093\n",
      "[2999]\ttrain-mae:8.02298\tval-mae:11.5726\n"
     ]
    }
   ],
   "source": [
    "xgb_reg_pro_in = xgb.train(xgb_params, xgb_train_in, num_boost_round=3000, evals=watchlist,\n",
    "                   early_stopping_rounds=100, verbose_eval=200)"
   ]
  },
  {
   "cell_type": "code",
   "execution_count": 161,
   "metadata": {
    "scrolled": true
   },
   "outputs": [],
   "source": [
    "xgb_pro_in = xgb_reg_pro_in.predict(xgb_test, ntree_limit=xgb_reg_pro_in.best_ntree_limit)"
   ]
  },
  {
   "cell_type": "code",
   "execution_count": 162,
   "metadata": {},
   "outputs": [
    {
     "data": {
      "text/plain": [
       "15.60935169315536"
      ]
     },
     "execution_count": 162,
     "metadata": {},
     "output_type": "execute_result"
    }
   ],
   "source": [
    "mean_absolute_error(xgb_pro_in, y_test_in)"
   ]
  },
  {
   "cell_type": "code",
   "execution_count": 164,
   "metadata": {},
   "outputs": [
    {
     "data": {
      "text/plain": [
       "<matplotlib.axes._subplots.AxesSubplot at 0x1a2e3ecc88>"
      ]
     },
     "execution_count": 164,
     "metadata": {},
     "output_type": "execute_result"
    },
    {
     "data": {
      "image/png": "[encoded data removed]",
      "text/plain": [
       "<Figure size 432x288 with 1 Axes>"
      ]
     },
     "metadata": {
      "needs_background": "light"
     },
     "output_type": "display_data"
    }
   ],
   "source": [
    "plot_importance(xgb_reg_pro_in)"
   ]
  },
  {
   "cell_type": "markdown",
   "metadata": {},
   "source": [
    "##### 添加的特征是否有效"
   ]
  },
  {
   "cell_type": "code",
   "execution_count": 666,
   "metadata": {},
   "outputs": [],
   "source": [
    "df_base_X = df_train_4week_mon.iloc[:, [0,1,4,5,6,7,8,9,10]]\n",
    "df_base_y = df_train_4week_mon.iloc[:, [2,3]]"
   ]
  },
  {
   "cell_type": "code",
   "execution_count": 667,
   "metadata": {},
   "outputs": [],
   "source": [
    "df28_base_X = df28.iloc[:, [0,1,4,5,6,7,8,9,10]]\n",
    "df28_base_y = df28.iloc[:, [2,3]]"
   ]
  },
  {
   "cell_type": "code",
   "execution_count": 668,
   "metadata": {},
   "outputs": [
    {
     "data": {
      "text/plain": [
       "RandomForestRegressor(bootstrap=True, criterion='mse', max_depth=None,\n",
       "           max_features='auto', max_leaf_nodes=None,\n",
       "           min_impurity_decrease=0.0, min_impurity_split=None,\n",
       "           min_samples_leaf=1, min_samples_split=2,\n",
       "           min_weight_fraction_leaf=0.0, n_estimators=500, n_jobs=-1,\n",
       "           oob_score=True, random_state=666, verbose=0, warm_start=False)"
      ]
     },
     "execution_count": 668,
     "metadata": {},
     "output_type": "execute_result"
    }
   ],
   "source": [
    "rf_reg_base = RandomForestRegressor(n_estimators=500, random_state=666, oob_score=True, n_jobs=-1)\n",
    "rf_reg_base.fit(df_base_X, df_base_y)"
   ]
  },
  {
   "cell_type": "code",
   "execution_count": 669,
   "metadata": {},
   "outputs": [
    {
     "data": {
      "text/plain": [
       "<BarContainer object of 9 artists>"
      ]
     },
     "execution_count": 669,
     "metadata": {},
     "output_type": "execute_result"
    },
    {
     "data": {
      "image/png": "[encoded data removed]",
      "text/plain": [
       "<Figure size 1600x640 with 1 Axes>"
      ]
     },
     "metadata": {
      "needs_background": "light"
     },
     "output_type": "display_data"
    }
   ],
   "source": [
    "feature = df_base_X.columns\n",
    "importances = rf_reg_base.feature_importances_\n",
    "index = np.argsort(importances)[::-1]\n",
    "feature[index]\n",
    "\n",
    "plt.figure(figsize = (20, 8), dpi = 80)\n",
    "plt.bar(feature[index], importances[index], color=\"g\", align=\"center\")"
   ]
  },
  {
   "cell_type": "code",
   "execution_count": 670,
   "metadata": {},
   "outputs": [
    {
     "data": {
      "text/plain": [
       "0.9624652817532721"
      ]
     },
     "execution_count": 670,
     "metadata": {},
     "output_type": "execute_result"
    }
   ],
   "source": [
    "rf_reg_base.score(df28_base_X, df28_base_y)"
   ]
  },
  {
   "cell_type": "code",
   "execution_count": 671,
   "metadata": {},
   "outputs": [],
   "source": [
    "df28_base_y_pre = rf_reg_base.predict(df28_base_X)"
   ]
  },
  {
   "cell_type": "code",
   "execution_count": 672,
   "metadata": {},
   "outputs": [
    {
     "data": {
      "text/plain": [
       "15.31923763550129"
      ]
     },
     "execution_count": 672,
     "metadata": {},
     "output_type": "execute_result"
    }
   ],
   "source": [
    "# 加了poi与weather将mae提高了0.8\n",
    "mean_absolute_error(df28_base_y, df28_base_y_pre)"
   ]
  },
  {
   "cell_type": "markdown",
   "metadata": {},
   "source": [
    "### 分站点预测"
   ]
  },
  {
   "cell_type": "code",
   "execution_count": 601,
   "metadata": {},
   "outputs": [],
   "source": [
    "# 站点0~80，分别预测后组合\n",
    "def predict_ID(df_train, df_test):\n",
    "    df_pre = np.zeros(shape=(1,2))\n",
    "   \n",
    "    for i in range(81):\n",
    "        df_train_sta = df_train[df_train['stationID']==i]\n",
    "        df_X = df_train_sta.iloc[:, [4,5,6,7,8,9,10,20,21]]\n",
    "        df_y = df_train_sta.iloc[:, [2,3]]\n",
    "        \n",
    "        df_test_X = df_test[df_test['stationID']==i].iloc[:, [4,5,6,7,8,9,10,20,21]]\n",
    "        \n",
    "        rf_reg = RandomForestRegressor(n_estimators=500, oob_score=True, n_jobs=-1)\n",
    "        rf_reg.fit(df_X, df_y)\n",
    "        \n",
    "        df_test_y_pre = rf_reg.predict(df_test_X)  \n",
    "        df_pre = np.vstack((df_pre, df_test_y_pre))\n",
    "    \n",
    "    df_pre = np.delete(df_pre, 0, axis=0)    #删除初始创建的第一行\n",
    "    \n",
    "    return df_pre\n",
    "    "
   ]
  },
  {
   "cell_type": "code",
   "execution_count": 602,
   "metadata": {},
   "outputs": [],
   "source": [
    "df_pre_s = predict_ID(df_train, df28)"
   ]
  },
  {
   "cell_type": "code",
   "execution_count": 603,
   "metadata": {},
   "outputs": [
    {
     "data": {
      "text/plain": [
       "17.579825118563605"
      ]
     },
     "execution_count": 603,
     "metadata": {},
     "output_type": "execute_result"
    }
   ],
   "source": [
    "mean_absolute_error(df28_y, df_pre_s)"
   ]
  },
  {
   "cell_type": "markdown",
   "metadata": {},
   "source": [
    "### 分站点+日期预测"
   ]
  },
  {
   "cell_type": "code",
   "execution_count": 604,
   "metadata": {},
   "outputs": [],
   "source": [
    "df_pre_st = predict_ID(df_train_4week_mon, df28)"
   ]
  },
  {
   "cell_type": "code",
   "execution_count": 605,
   "metadata": {},
   "outputs": [
    {
     "data": {
      "text/plain": [
       "14.579912855690932"
      ]
     },
     "execution_count": 605,
     "metadata": {},
     "output_type": "execute_result"
    }
   ],
   "source": [
    "mean_absolute_error(df28_y, df_pre_st)"
   ]
  },
  {
   "cell_type": "code",
   "execution_count": null,
   "metadata": {},
   "outputs": [],
   "source": []
  }
 ],
 "metadata": {
  "kernelspec": {
   "display_name": "Python 3",
   "language": "python",
   "name": "python3"
  },
  "language_info": {
   "codemirror_mode": {
    "name": "ipython",
    "version": 3
   },
   "file_extension": ".py",
   "mimetype": "text/x-python",
   "name": "python",
   "nbconvert_exporter": "python",
   "pygments_lexer": "ipython3",
   "version": "3.7.3"
  },
  "toc": {
   "base_numbering": 1,
   "nav_menu": {},
   "number_sections": true,
   "sideBar": true,
   "skip_h1_title": false,
   "title_cell": "Table of Contents",
   "title_sidebar": "Contents",
   "toc_cell": false,
   "toc_position": {
    "height": "calc(100% - 180px)",
    "left": "10px",
    "top": "150px",
    "width": "193px"
   },
   "toc_section_display": true,
   "toc_window_display": true
  }
 },
 "nbformat": 4,
 "nbformat_minor": 2
}
